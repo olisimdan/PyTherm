{
 "cells": [
  {
   "cell_type": "code",
   "execution_count": 1,
   "metadata": {},
   "outputs": [],
   "source": [
    "import pytherm\n",
    "import numpy as np"
   ]
  },
  {
   "cell_type": "code",
   "execution_count": 2,
   "metadata": {},
   "outputs": [],
   "source": [
    "#Here we initialize the class\n",
    "exp_data = pytherm.Experimental_Data()\n",
    "\n",
    "#By using the \"Add\" class function, we may add experimental data to the class. First we add vapor pressure data\n",
    "filename_psat = 'experimental_data/TEG_vapor_pressure.csv'\n",
    "datatype_psat = 'PSat'\n",
    "identifier_psat = 'teg_psat'\n",
    "exp_data.Add(filename_psat, datatype_psat, identifier_psat)\n",
    "exp_data.Add(filename_psat, datatype_psat, \"yolo\")\n",
    "\n",
    "#Similarly, we add liquid density data.\n",
    "filename_rho = 'experimental_data/TEG_liq_density.csv'\n",
    "datatype_rho = 'rho'\n",
    "identifier_rho = 'teg_rho'\n",
    "exp_data.Add(filename_rho, datatype_rho, identifier_rho)\n",
    "\n"
   ]
  },
  {
   "cell_type": "code",
   "execution_count": 3,
   "metadata": {},
   "outputs": [
    {
     "name": "stdout",
     "output_type": "stream",
     "text": [
      "Before adjusting for reduced temperature\n",
      "Data Type        Dim (r x c)     Name           \n",
      "-------------------------------------------------------------\n",
      "PSat             38x2            teg_psat       \n",
      "PSat             38x2            yolo           \n",
      "rho              61x2            teg_rho        \n",
      "\n",
      "\n"
     ]
    }
   ],
   "source": [
    "#In this code section, we display the experimental data currently available in the class using the Show_list() function\n",
    "print(\"Before adjusting for reduced temperature\")\n",
    "exp_data.Show_list()"
   ]
  },
  {
   "cell_type": "code",
   "execution_count": 4,
   "metadata": {},
   "outputs": [
    {
     "name": "stdout",
     "output_type": "stream",
     "text": [
      "[38, 2]\n",
      "[76, 2]\n",
      "[114, 2]\n"
     ]
    }
   ],
   "source": [
    "exp_psat = exp_data.Retrieve_data('teg_psat')\n",
    "test = exp_data.Retrieve_data_type('PSat')\n",
    "combined = np.append(exp_psat,test,0)\n",
    "\n",
    "print([np.size(exp_psat,0), np.size(exp_psat,1)])\n",
    "print([np.size(test,0), np.size(test,1)])\n",
    "print([np.size(combined,0), np.size(combined,1)])\n"
   ]
  },
  {
   "cell_type": "code",
   "execution_count": 5,
   "metadata": {},
   "outputs": [
    {
     "name": "stdout",
     "output_type": "stream",
     "text": [
      "1\n"
     ]
    }
   ],
   "source": [
    "print(np.size(np.zeros((1,2)),0))\n"
   ]
  },
  {
   "cell_type": "code",
   "execution_count": null,
   "metadata": {},
   "outputs": [],
   "source": []
  },
  {
   "cell_type": "code",
   "execution_count": 6,
   "metadata": {},
   "outputs": [],
   "source": [
    "#Threading = pytherm.MultiThreading()\n",
    "#Threading.Set_Cores(60)\n",
    "#Threading.Pooling()\n",
    "\n",
    "\n"
   ]
  },
  {
   "cell_type": "code",
   "execution_count": null,
   "metadata": {},
   "outputs": [],
   "source": []
  },
  {
   "cell_type": "code",
   "execution_count": null,
   "metadata": {},
   "outputs": [],
   "source": []
  }
 ],
 "metadata": {
  "kernelspec": {
   "display_name": "Python 3",
   "language": "python",
   "name": "python3"
  },
  "language_info": {
   "codemirror_mode": {
    "name": "ipython",
    "version": 3
   },
   "file_extension": ".py",
   "mimetype": "text/x-python",
   "name": "python",
   "nbconvert_exporter": "python",
   "pygments_lexer": "ipython3",
   "version": "3.8.3"
  }
 },
 "nbformat": 4,
 "nbformat_minor": 4
}
