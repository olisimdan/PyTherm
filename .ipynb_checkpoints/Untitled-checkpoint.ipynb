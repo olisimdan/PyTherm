{
 "cells": [
  {
   "cell_type": "code",
   "execution_count": null,
   "metadata": {},
   "outputs": [],
   "source": [
    "import pytherm"
   ]
  },
  {
   "cell_type": "code",
   "execution_count": 2,
   "metadata": {},
   "outputs": [],
   "source": [
    "#Threading = pytherm.MultiThreading()\n",
    "#Threading.Set_Cores(60)\n",
    "#Threading.Pooling()\n",
    "\n",
    "#print(Threading.pool)\n"
   ]
  },
  {
   "cell_type": "code",
   "execution_count": null,
   "metadata": {},
   "outputs": [],
   "source": [
    "#Useful links: \n",
    "#http://pymotw.com/2/multiprocessing/basics.html \n",
    "#http://www.reddit.com/r/Python/comments/j3qjb/parformatlabpool_replacement/ \n",
    " \n",
    "import multiprocessing   \n",
    " \n",
    "def func(n): \n",
    "    print(n) \n",
    " \n",
    " \n",
    "\n",
    "pool = multiprocessing.Pool(processes=4) \n",
    "pool.map(func, range(10)) \n",
    "pool.join()   \n",
    "pool.close()  \n",
    "print('done')"
   ]
  }
 ],
 "metadata": {
  "kernelspec": {
   "display_name": "Python 3",
   "language": "python",
   "name": "python3"
  },
  "language_info": {
   "codemirror_mode": {
    "name": "ipython",
    "version": 3
   },
   "file_extension": ".py",
   "mimetype": "text/x-python",
   "name": "python",
   "nbconvert_exporter": "python",
   "pygments_lexer": "ipython3",
   "version": "3.8.3"
  }
 },
 "nbformat": 4,
 "nbformat_minor": 4
}
