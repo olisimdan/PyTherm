{
 "cells": [
  {
   "cell_type": "markdown",
   "metadata": {},
   "source": [
    "# Lesson 6. Advanced Parameter Estimation"
   ]
  },
  {
   "cell_type": "markdown",
   "metadata": {},
   "source": [
    "In this Jupyter Notebook more advanced techniques for performing parameter estimation is presented. The following points will be taught in this lesson:\n",
    "* Selection of least square algorithm\n",
    "* Adding lower- and upper bounds to parameters in parameter estimation\n",
    "* Applying multiple random start, to help find the global minimum of the objective function\n",
    "* Enabling and applying multithreading\n",
    "\n",
    "The following code block must be run to perform any calculations in this document:"
   ]
  },
  {
   "cell_type": "code",
   "execution_count": 1,
   "metadata": {},
   "outputs": [],
   "source": [
    "import pytherm #Required\n",
    "\n",
    "import numpy as np #Recommended\n",
    "from matplotlib import pyplot as plt #Recommended - used for plotting"
   ]
  },
  {
   "cell_type": "markdown",
   "metadata": {},
   "source": [
    "### Experimental Data Loading\n",
    "In this project we will once again show examples using the molecule triethylen-glycol (TEG). Pure component data for this molecule is loaded in the following code block."
   ]
  },
  {
   "cell_type": "code",
   "execution_count": 2,
   "metadata": {},
   "outputs": [],
   "source": [
    "#Here we initialize the class\n",
    "exp_data = pytherm.Experimental_Data()\n",
    "\n",
    "#By using the \"Add\" class function, we may add experimental data to the class. First we add vapor pressure data\n",
    "filename_psat = 'experimental_data/TEG_vapor_pressure.csv'\n",
    "datatype_psat = 'PSat'\n",
    "identifier_psat = 'teg_psat'\n",
    "exp_data.Add(filename_psat, datatype_psat, identifier_psat)\n",
    "\n",
    "#Similarly, we add liquid density data.\n",
    "filename_rho = 'experimental_data/TEG_liq_density.csv'\n",
    "datatype_rho = 'rho'\n",
    "identifier_rho = 'teg_rho'\n",
    "exp_data.Add(filename_rho, datatype_rho, identifier_rho)\n",
    "\n"
   ]
  },
  {
   "cell_type": "markdown",
   "metadata": {},
   "source": [
    "Furthermore, we would like to impose a temperature interval on the data in the range of 0.4-0.9 Tr."
   ]
  },
  {
   "cell_type": "code",
   "execution_count": 3,
   "metadata": {},
   "outputs": [
    {
     "name": "stdout",
     "output_type": "stream",
     "text": [
      "After adjusting for reduced temperature\n",
      "Data Type        Dim (r x c)     Name           \n",
      "-------------------------------------------------------------\n",
      "PSat             38x2            teg_psat       \n",
      "rho              50x2            teg_rho        \n",
      "\n",
      "\n"
     ]
    }
   ],
   "source": [
    "#It is common to limit the pure component data to a specific temperature range, typically expressed as an\n",
    "#an interval of reduced temperatures. If we seek to remove data outside these region, we impose the interval by \n",
    "#using the ReducedTemperature function\n",
    "\n",
    "Tr_min = 0.4 #Reduced temperature min\n",
    "Tr_max = 0.9 #Reduced temperature max\n",
    "Tc = 769.5 #Critical temprature [K]\n",
    "exp_data.ReducedTemperature(Tr_min, Tr_max, Tc)\n",
    "\n",
    "print(\"After adjusting for reduced temperature\")\n",
    "exp_data.Show_list()"
   ]
  },
  {
   "cell_type": "markdown",
   "metadata": {},
   "source": [
    "### Loading TEG properties\n",
    "Critical properties and model parameters for TEG are defined below, they are the same as previous lessons."
   ]
  },
  {
   "cell_type": "code",
   "execution_count": 4,
   "metadata": {},
   "outputs": [],
   "source": [
    "crit_props = {\n",
    "    \"Tc\" : 769.5,\n",
    "    \"Pc\" : 33.2,\n",
    "    \"Om\" : 0.05 \n",
    "}\n",
    "\n",
    "original_params = {\n",
    "    \"b0\" : 128.93,\n",
    "    \"Gamma\" : 3622.5,\n",
    "    \"c1\" : 0.9100,\n",
    "    \"AssocEng\" :  1420.0,\n",
    "    \"AssocVol\" : 20.0\n",
    "}\n",
    "\n",
    "AssocSch = 24 #Corresponds to 6D associaton scheme"
   ]
  },
  {
   "cell_type": "code",
   "execution_count": 5,
   "metadata": {},
   "outputs": [],
   "source": [
    "#First, the thermodynamic calculations must be set up as per usua\n",
    "Thermo = pytherm.Model()\n",
    "\n",
    "Thermo.NoPureComp(1)\n",
    "Thermo.CritProps(1,crit_props[\"Tc\"], crit_props[\"Pc\"], crit_props[\"Om\"])\n",
    "Thermo.CPAParams(1,original_params[\"b0\"],original_params[\"Gamma\"],original_params[\"c1\"])\n",
    "Thermo.AssocParams(1,AssocSch,original_params[\"AssocVol\"],original_params[\"AssocEng\"])"
   ]
  },
  {
   "cell_type": "markdown",
   "metadata": {},
   "source": [
    "### Selecting an optimization algorithm\n",
    "In this section we will learn how to select an optimization algorithm. The PyTherm package supports three optimization algorithms for least square problems:\n",
    "* Trust Region Reflective\n",
    "* Dogleg with Rectangular Trust Regions\n",
    "* Levenberg-Marquardt"
   ]
  },
  {
   "cell_type": "code",
   "execution_count": 6,
   "metadata": {},
   "outputs": [
    {
     "name": "stdout",
     "output_type": "stream",
     "text": [
      "128.93\n"
     ]
    }
   ],
   "source": [
    "#From here we create a Optimizer object\n",
    "optimizer = pytherm.Optimizer()\n",
    "\n",
    "#The optimizer is now given a model to use, the Model object\n",
    "optimizer.Add_Model(Thermo)\n",
    "\n",
    "#Now we add the experimental data object to the Optimizer object\n",
    "optimizer.Add_Experimental_Data(exp_data)\n",
    "\n",
    "#Now we set the optimization algorithm\n",
    "algorithm = \"trf\" # lm - levenberg marquardt, trf - trust region reflective, dogbox - dogleg algorithm\n",
    "optimizer.Set_Optimization_Algorithm(algorithm)\n",
    "\n",
    "#Now the optimizer have enough information to perform parameterization. Keep in mind that Optimizer is solely for\n",
    "#CPA model, a\n",
    "opti_params = optimizer.Calculation()"
   ]
  },
  {
   "cell_type": "code",
   "execution_count": 7,
   "metadata": {},
   "outputs": [
    {
     "name": "stdout",
     "output_type": "stream",
     "text": [
      "{'b0': 128.93, 'Gamma': 3622.5, 'c1': 0.91, 'AssocVol': 20.0, 'AssocEng': 1420.0}\n"
     ]
    }
   ],
   "source": [
    "print(opti_params)"
   ]
  },
  {
   "cell_type": "markdown",
   "metadata": {},
   "source": [
    "### Setting upper and lower bounds for decision variables"
   ]
  },
  {
   "cell_type": "code",
   "execution_count": 8,
   "metadata": {},
   "outputs": [],
   "source": [
    "#First, the thermodynamic calculations must be set up as per usua\n",
    "Thermo = pytherm.Model()\n",
    "\n",
    "Thermo.NoPureComp(1)\n",
    "Thermo.CritProps(1,crit_props[\"Tc\"], crit_props[\"Pc\"], crit_props[\"Om\"])\n",
    "Thermo.CPAParams(1,original_params[\"b0\"],original_params[\"Gamma\"],original_params[\"c1\"])\n",
    "Thermo.AssocParams(1,AssocSch,original_params[\"AssocVol\"],original_params[\"AssocEng\"])"
   ]
  },
  {
   "cell_type": "code",
   "execution_count": 9,
   "metadata": {},
   "outputs": [
    {
     "name": "stdout",
     "output_type": "stream",
     "text": [
      "128.93\n"
     ]
    }
   ],
   "source": [
    "#From here we create a Optimizer object\n",
    "optimizer = pytherm.Optimizer()\n",
    "\n",
    "#The optimizer is now given a model to use, the Model object\n",
    "optimizer.Add_Model(Thermo)\n",
    "\n",
    "#Now we add the experimental data object to the Optimizer object\n",
    "optimizer.Add_Experimental_Data(exp_data)\n",
    "\n",
    "#Now we set the optimization algorithm (remember, levenberg-marquardt does NOT work with bounds)\n",
    "algorithm = \"trf\" # lm - levenberg marquardt, trf - trust region reflective, dogbox - dogleg algorithm\n",
    "optimizer.Set_Optimization_Algorithm(algorithm)\n",
    "\n",
    "bounds = {\n",
    "    \"b0\" : [125,135],\n",
    "    \"Gamma\" : [3000,4000],\n",
    "    \"c1\" : [0.5,1.0],\n",
    "    \"AssocVol\" : [10,30],\n",
    "    \"AssocEng\" : [1000, 2000]\n",
    "}\n",
    "optimizer.Add_Bounds(bounds)\n",
    "\n",
    "\n",
    "\n",
    "#Now the optimizer have enough information to perform parameterization. Keep in mind that Optimizer is solely for\n",
    "#CPA model, a\n",
    "opti_params = optimizer.Calculation()"
   ]
  },
  {
   "cell_type": "code",
   "execution_count": 10,
   "metadata": {},
   "outputs": [
    {
     "name": "stdout",
     "output_type": "stream",
     "text": [
      "{'b0': 128.93, 'Gamma': 3622.5, 'c1': 0.91, 'AssocVol': 20.0, 'AssocEng': 1420.0}\n"
     ]
    }
   ],
   "source": [
    "print(opti_params)"
   ]
  },
  {
   "cell_type": "markdown",
   "metadata": {},
   "source": [
    "### Fixing decision variables"
   ]
  },
  {
   "cell_type": "code",
   "execution_count": 11,
   "metadata": {},
   "outputs": [],
   "source": [
    "#First, the thermodynamic calculations must be set up as per usua\n",
    "Thermo = pytherm.Model()\n",
    "\n",
    "Thermo.NoPureComp(1)\n",
    "Thermo.CritProps(1,crit_props[\"Tc\"], crit_props[\"Pc\"], crit_props[\"Om\"])\n",
    "Thermo.CPAParams(1,original_params[\"b0\"],original_params[\"Gamma\"],original_params[\"c1\"])\n",
    "Thermo.AssocParams(1,AssocSch,original_params[\"AssocVol\"],original_params[\"AssocEng\"])"
   ]
  },
  {
   "cell_type": "code",
   "execution_count": 12,
   "metadata": {},
   "outputs": [
    {
     "name": "stdout",
     "output_type": "stream",
     "text": [
      "20.0\n"
     ]
    },
    {
     "ename": "IndexError",
     "evalue": "index 2 is out of bounds for axis 0 with size 2",
     "output_type": "error",
     "traceback": [
      "\u001b[1;31m---------------------------------------------------------------------------\u001b[0m",
      "\u001b[1;31mIndexError\u001b[0m                                Traceback (most recent call last)",
      "\u001b[1;32m<ipython-input-12-8650ef658631>\u001b[0m in \u001b[0;36m<module>\u001b[1;34m\u001b[0m\n\u001b[0;32m     25\u001b[0m \u001b[1;31m#Now the optimizer have enough information to perform parameterization. Keep in mind that Optimizer is solely for\u001b[0m\u001b[1;33m\u001b[0m\u001b[1;33m\u001b[0m\u001b[1;33m\u001b[0m\u001b[0m\n\u001b[0;32m     26\u001b[0m \u001b[1;31m#CPA model, a\u001b[0m\u001b[1;33m\u001b[0m\u001b[1;33m\u001b[0m\u001b[1;33m\u001b[0m\u001b[0m\n\u001b[1;32m---> 27\u001b[1;33m \u001b[0mopti_params\u001b[0m \u001b[1;33m=\u001b[0m \u001b[0moptimizer\u001b[0m\u001b[1;33m.\u001b[0m\u001b[0mCalculation\u001b[0m\u001b[1;33m(\u001b[0m\u001b[1;33m)\u001b[0m\u001b[1;33m\u001b[0m\u001b[1;33m\u001b[0m\u001b[0m\n\u001b[0m",
      "\u001b[1;32m~\\Desktop\\CERE_PYTHON_PROJECT\\pytherm.py\u001b[0m in \u001b[0;36mCalculation\u001b[1;34m(self, **kwargs)\u001b[0m\n\u001b[0;32m   1598\u001b[0m          \u001b[0mb0\u001b[0m \u001b[1;33m=\u001b[0m \u001b[0mout\u001b[0m\u001b[1;33m.\u001b[0m\u001b[0mx\u001b[0m\u001b[1;33m[\u001b[0m\u001b[1;36m0\u001b[0m\u001b[1;33m]\u001b[0m\u001b[1;33m\u001b[0m\u001b[1;33m\u001b[0m\u001b[0m\n\u001b[0;32m   1599\u001b[0m          \u001b[0mGamma\u001b[0m \u001b[1;33m=\u001b[0m \u001b[0mout\u001b[0m\u001b[1;33m.\u001b[0m\u001b[0mx\u001b[0m\u001b[1;33m[\u001b[0m\u001b[1;36m1\u001b[0m\u001b[1;33m]\u001b[0m\u001b[1;33m\u001b[0m\u001b[1;33m\u001b[0m\u001b[0m\n\u001b[1;32m-> 1600\u001b[1;33m          \u001b[0mc1\u001b[0m \u001b[1;33m=\u001b[0m \u001b[0mout\u001b[0m\u001b[1;33m.\u001b[0m\u001b[0mx\u001b[0m\u001b[1;33m[\u001b[0m\u001b[1;36m2\u001b[0m\u001b[1;33m]\u001b[0m\u001b[1;33m\u001b[0m\u001b[1;33m\u001b[0m\u001b[0m\n\u001b[0m\u001b[0;32m   1601\u001b[0m          \u001b[0mAssocVol\u001b[0m \u001b[1;33m=\u001b[0m \u001b[0mout\u001b[0m\u001b[1;33m.\u001b[0m\u001b[0mx\u001b[0m\u001b[1;33m[\u001b[0m\u001b[1;36m3\u001b[0m\u001b[1;33m]\u001b[0m\u001b[1;33m\u001b[0m\u001b[1;33m\u001b[0m\u001b[0m\n\u001b[0;32m   1602\u001b[0m          \u001b[0mAssocEng\u001b[0m \u001b[1;33m=\u001b[0m \u001b[0mout\u001b[0m\u001b[1;33m.\u001b[0m\u001b[0mx\u001b[0m\u001b[1;33m[\u001b[0m\u001b[1;36m4\u001b[0m\u001b[1;33m]\u001b[0m\u001b[1;33m\u001b[0m\u001b[1;33m\u001b[0m\u001b[0m\n",
      "\u001b[1;31mIndexError\u001b[0m: index 2 is out of bounds for axis 0 with size 2"
     ]
    }
   ],
   "source": [
    "#From here we create a Optimizer object\n",
    "optimizer = pytherm.Optimizer()\n",
    "\n",
    "#The optimizer is now given a model to use, the Model object\n",
    "optimizer.Add_Model(Thermo)\n",
    "\n",
    "#Now we add the experimental data object to the Optimizer object\n",
    "optimizer.Add_Experimental_Data(exp_data)\n",
    "\n",
    "#Now we set the optimization algorithm (remember, levenberg-marquardt does NOT work with bounds)\n",
    "algorithm = \"trf\" # lm - levenberg marquardt, trf - trust region reflective, dogbox - dogleg algorithm\n",
    "optimizer.Set_Optimization_Algorithm(algorithm)\n",
    "\n",
    "fixed = {\n",
    "    \"b0\" : True,\n",
    "    \"Gamma\" : False,\n",
    "    \"c1\" : False,\n",
    "    \"AssocVol\" : False,\n",
    "    \"AssocEng\" : False\n",
    "}\n",
    "optimizer.Fix_Variables(fixed)\n",
    "\n",
    "\n",
    "\n",
    "#Now the optimizer have enough information to perform parameterization. Keep in mind that Optimizer is solely for\n",
    "#CPA model, a\n",
    "opti_params = optimizer.Calculation()"
   ]
  },
  {
   "cell_type": "code",
   "execution_count": null,
   "metadata": {},
   "outputs": [],
   "source": [
    "print(opti_params)"
   ]
  },
  {
   "cell_type": "markdown",
   "metadata": {},
   "source": [
    "### How to use multiple initial conditions for finding global minimum"
   ]
  },
  {
   "cell_type": "code",
   "execution_count": null,
   "metadata": {},
   "outputs": [],
   "source": [
    "#First, the thermodynamic calculations must be set up as per usua\n",
    "Thermo = pytherm.Model()\n",
    "\n",
    "Thermo.NoPureComp(1)\n",
    "Thermo.CritProps(1,crit_props[\"Tc\"], crit_props[\"Pc\"], crit_props[\"Om\"])\n",
    "Thermo.CPAParams(1,original_params[\"b0\"],original_params[\"Gamma\"],original_params[\"c1\"])\n",
    "Thermo.AssocParams(1,AssocSch,original_params[\"AssocVol\"],original_params[\"AssocEng\"])"
   ]
  },
  {
   "cell_type": "code",
   "execution_count": null,
   "metadata": {},
   "outputs": [],
   "source": [
    "#From here we create a Optimizer object\n",
    "optimizer = pytherm.Optimizer()\n",
    "\n",
    "#The optimizer is now given a model to use, the Model object\n",
    "optimizer.Add_Model(Thermo)\n",
    "\n",
    "#Now we add the experimental data object to the Optimizer object\n",
    "optimizer.Add_Experimental_Data(exp_data)\n",
    "\n",
    "#Now we set the optimization algorithm\n",
    "algorithm = \"trf\" # lm - levenberg marquardt, trf - trust region reflective, dogbox - dogleg algorithm\n",
    "optimizer.Set_Optimization_Algorithm(algorithm)\n",
    "\n",
    "bounds = {\n",
    "    \"b0\" : [125,135],\n",
    "    \"Gamma\" : [3000,4000],\n",
    "    \"c1\" : [0.5,1.5],\n",
    "    \"AssocVol\" : [10,30],\n",
    "    \"AssocEng\" : [1000, 2000]\n",
    "}\n",
    "iterations = 3\n",
    "optimizer.Setup_Multistart(bounds, iterations)\n",
    "\n",
    "opti_params_multistart = optimizer.Calculation(MultiStart = True) "
   ]
  },
  {
   "cell_type": "code",
   "execution_count": null,
   "metadata": {},
   "outputs": [],
   "source": [
    "print(opti_params_multistart)"
   ]
  },
  {
   "cell_type": "code",
   "execution_count": null,
   "metadata": {
    "scrolled": false
   },
   "outputs": [],
   "source": [
    "n = 100\n",
    "\n",
    "\n",
    "exp_psat = exp_data.Retrieve_data('teg_psat')\n",
    "exp_rho = exp_data.Retrieve_data('teg_rho')\n",
    "\n",
    "expT_psat = exp_psat[:,0]\n",
    "expP = exp_psat[:,1]\n",
    "\n",
    "expT_rho = exp_rho[:,0]\n",
    "expRho = exp_rho[:,1]\n",
    "\n",
    "T_model_psat = np.linspace(min(expT_psat),max(expT_psat),n)\n",
    "T_model_rho = np.linspace(min(expT_rho),max(expT_rho),n)\n",
    "\n",
    "P_model = np.zeros(n) #Memory allocation - Good practice, more efficient\n",
    "rho_model = np.zeros(n) #Memory allocation - Good practice, more efficient\n",
    "P_model_multi = np.zeros(n) #Memory allocation - Good practice, more efficient\n",
    "rho_model_multi = np.zeros(n) #Memory allocation - Good practice, more efficient\n",
    "\n",
    "\n",
    "Thermo_improved = pytherm.Model()\n",
    "Thermo_improved.NoPureComp(1)\n",
    "Thermo_improved.CritProps(1,crit_props[\"Tc\"], crit_props[\"Pc\"], crit_props[\"Om\"])\n",
    "Thermo_improved.CPAParams(1,opti_params[\"b0\"],opti_params[\"Gamma\"],opti_params[\"c1\"])\n",
    "Thermo_improved.AssocParams(1,AssocSch,opti_params[\"AssocVol\"],opti_params[\"AssocEng\"])\n",
    "\n",
    "Thermo_improved.Setup_Thermo()\n",
    "\n",
    "for i in range(0,n):\n",
    "    P_model[i], b, c = Thermo_improved.PBubble(T_model_psat[i],[1.0])\n",
    "    rho_model[i] = Thermo.LiqRho(T_model_rho[i],[1.0])\n",
    "\n",
    "\n",
    "Thermo_improved = pytherm.Model()\n",
    "Thermo_improved.NoPureComp(1)\n",
    "Thermo_improved.CritProps(1,crit_props[\"Tc\"], crit_props[\"Pc\"], crit_props[\"Om\"])\n",
    "Thermo_improved.CPAParams(1,opti_params_multistart[\"b0\"],opti_params_multistart[\"Gamma\"],opti_params_multistart[\"c1\"])\n",
    "Thermo_improved.AssocParams(1,AssocSch,opti_params_multistart[\"AssocVol\"],opti_params_multistart[\"AssocEng\"])\n",
    "\n",
    "Thermo_improved.Setup_Thermo()\n",
    "\n",
    "for i in range(0,n):\n",
    "    P_model_multi[i], b, c = Thermo_improved.PBubble(T_model_psat[i],[1.0])\n",
    "    rho_model_multi[i] = Thermo.LiqRho(T_model_rho[i],[1.0])\n",
    "\n",
    "Thermo_improved.Finishup_Thermo()\n",
    "#-----------------------------------------------------------------------------------\n",
    "\n",
    "plt.plot(T_model_psat,P_model,color=\"black\")\n",
    "plt.plot(T_model_psat,P_model_multi,color=\"red\")\n",
    "plt.plot(expT_psat,expP,'o',color=\"blue\",markersize=  6)\n",
    "plt.xlabel(\"Temperature [K]\")\n",
    "plt.ylabel(\"Vapor Pressure [bar]\")\n",
    "plt.yscale('log')\n",
    "\n",
    "plt.legend([\"Before optimization\",\"After optimization\",\"Experimental data\"])\n",
    "plt.grid()\n",
    "plt.show()\n",
    "\n",
    "plt.plot(T_model_rho,rho_model,color=\"black\")\n",
    "plt.plot(T_model_rho,rho_model_multi,color=\"red\")\n",
    "plt.plot(expT_rho,expRho,'o',color=\"blue\",markersize=  6)\n",
    "plt.xlabel(\"Temperature [K]\")\n",
    "plt.ylabel(\"Liquid Density [mol/L]\")\n",
    "plt.legend([\"Optimization w.o. Multistart\",\"Optimization w. Multistart\",\"Experimental data\"])\n",
    "plt.grid()\n",
    "plt.show()"
   ]
  },
  {
   "cell_type": "markdown",
   "metadata": {},
   "source": [
    "Implement\n",
    "\n",
    "- Particle Swarm\n",
    "- Difference evolution (or differential)"
   ]
  },
  {
   "cell_type": "code",
   "execution_count": null,
   "metadata": {},
   "outputs": [],
   "source": [
    "#First, the thermodynamic calculations must be set up as per usua\n",
    "Thermo = pytherm.Model()\n",
    "\n",
    "Thermo.NoPureComp(1)\n",
    "Thermo.CritProps(1,crit_props[\"Tc\"], crit_props[\"Pc\"], crit_props[\"Om\"])\n",
    "Thermo.CPAParams(1,original_params[\"b0\"],original_params[\"Gamma\"],original_params[\"c1\"])\n",
    "Thermo.AssocParams(1,AssocSch,original_params[\"AssocVol\"],original_params[\"AssocEng\"])"
   ]
  },
  {
   "cell_type": "code",
   "execution_count": null,
   "metadata": {},
   "outputs": [],
   "source": [
    "#From here we create a Optimizer object\n",
    "optimizer = pytherm.Optimizer()\n",
    "\n",
    "#The optimizer is now given a model to use, the Model object\n",
    "optimizer.Add_Model(Thermo)\n",
    "\n",
    "#Now we add the experimental data object to the Optimizer object\n",
    "optimizer.Add_Experimental_Data(exp_data)\n",
    "\n",
    "bounds = {\n",
    "    \"b0\" : [125,135],\n",
    "    \"Gamma\" : [3000,4000],\n",
    "    \"c1\" : [0.5,1.0],\n",
    "    \"AssocVol\" : [10,30],\n",
    "    \"AssocEng\" : [1000, 2000]\n",
    "}\n",
    "optimizer.Add_Bounds(bounds)\n",
    "\n",
    "\n",
    "opti_params = optimizer.PSO(500, {'stable_iter' : 50})"
   ]
  },
  {
   "cell_type": "code",
   "execution_count": null,
   "metadata": {},
   "outputs": [],
   "source": [
    "print(opti_params)"
   ]
  }
 ],
 "metadata": {
  "kernelspec": {
   "display_name": "Python 3",
   "language": "python",
   "name": "python3"
  },
  "language_info": {
   "codemirror_mode": {
    "name": "ipython",
    "version": 3
   },
   "file_extension": ".py",
   "mimetype": "text/x-python",
   "name": "python",
   "nbconvert_exporter": "python",
   "pygments_lexer": "ipython3",
   "version": "3.8.3"
  }
 },
 "nbformat": 4,
 "nbformat_minor": 4
}
