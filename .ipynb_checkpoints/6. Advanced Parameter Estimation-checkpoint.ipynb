{
 "cells": [
  {
   "cell_type": "markdown",
   "metadata": {},
   "source": [
    "# Lesson 6. Advanced Parameter Estimation"
   ]
  },
  {
   "cell_type": "code",
   "execution_count": 1,
   "metadata": {},
   "outputs": [],
   "source": [
    "import pytherm #Required\n",
    "\n",
    "import numpy as np #Recommended\n",
    "from matplotlib import pyplot as plt #Recommended - used for plotting"
   ]
  },
  {
   "cell_type": "code",
   "execution_count": 2,
   "metadata": {},
   "outputs": [],
   "source": [
    "#Here we initialize the class\n",
    "exp_data = pytherm.Experimental_Data()\n",
    "\n",
    "#By using the \"Add\" class function, we may add experimental data to the class. First we add vapor pressure data\n",
    "filename_psat = 'experimental_data/TEG_vapor_pressure.csv'\n",
    "datatype_psat = 'PSat'\n",
    "identifier_psat = 'teg_psat'\n",
    "exp_data.Add(filename_psat, datatype_psat, identifier_psat)\n",
    "\n",
    "#Similarly, we add liquid density data.\n",
    "filename_rho = 'experimental_data/TEG_liq_density.csv'\n",
    "datatype_rho = 'rho'\n",
    "identifier_rho = 'teg_rho'\n",
    "exp_data.Add(filename_rho, datatype_rho, identifier_rho)\n",
    "\n"
   ]
  },
  {
   "cell_type": "code",
   "execution_count": 3,
   "metadata": {},
   "outputs": [
    {
     "name": "stdout",
     "output_type": "stream",
     "text": [
      "After adjusting for reduced temperature\n",
      "Data Type        Dim (r x c)     Name           \n",
      "-------------------------------------------------------------\n",
      "PSat             38x2            teg_psat       \n",
      "rho              50x2            teg_rho        \n",
      "\n",
      "\n"
     ]
    }
   ],
   "source": [
    "#It is common to limit the pure component data to a specific temperature range, typically expressed as an\n",
    "#an interval of reduced temperatures. If we seek to remove data outside these region, we impose the interval by \n",
    "#using the ReducedTemperature function\n",
    "\n",
    "Tr_min = 0.4 #Reduced temperature min\n",
    "Tr_max = 0.9 #Reduced temperature max\n",
    "Tc = 769.5 #Critical temprature [K]\n",
    "exp_data.ReducedTemperature(Tr_min, Tr_max, Tc)\n",
    "\n",
    "print(\"After adjusting for reduced temperature\")\n",
    "exp_data.Show_list()"
   ]
  },
  {
   "cell_type": "code",
   "execution_count": 4,
   "metadata": {},
   "outputs": [],
   "source": [
    "crit_props = {\n",
    "    \"Tc\" : 769.5,\n",
    "    \"Pc\" : 33.2,\n",
    "    \"Om\" : 0.05 \n",
    "}\n",
    "\n",
    "original_params = {\n",
    "    \"b0\" : 128.93,\n",
    "    \"Gamma\" : 3622.5,\n",
    "    \"c1\" : 0.9100,\n",
    "    \"AssocEng\" :  1420.0,\n",
    "    \"AssocVol\" : 20.0\n",
    "}\n",
    "\n",
    "AssocSch = 24 #Corresponds to 6D associaton scheme"
   ]
  },
  {
   "cell_type": "code",
   "execution_count": 5,
   "metadata": {},
   "outputs": [],
   "source": [
    "#First, the thermodynamic calculations must be set up as per usua\n",
    "Thermo = pytherm.Model()\n",
    "\n",
    "Thermo.NoPureComp(1)\n",
    "Thermo.CritProps(1,crit_props[\"Tc\"], crit_props[\"Pc\"], crit_props[\"Om\"])\n",
    "Thermo.CPAParams(1,original_params[\"b0\"],original_params[\"Gamma\"],original_params[\"c1\"])\n",
    "Thermo.AssocParams(1,AssocSch,original_params[\"AssocVol\"],original_params[\"AssocEng\"])"
   ]
  },
  {
   "cell_type": "markdown",
   "metadata": {},
   "source": [
    "### Selecting an optimization algorithm"
   ]
  },
  {
   "cell_type": "code",
   "execution_count": 6,
   "metadata": {},
   "outputs": [],
   "source": [
    "#From here we create a Optimizer object\n",
    "optimizer = pytherm.Optimizer()\n",
    "\n",
    "#The optimizer is now given a model to use, the Model object\n",
    "optimizer.Add_Model(Thermo)\n",
    "\n",
    "#Now we add the experimental data object to the Optimizer object\n",
    "optimizer.Add_Experimental_Data(exp_data)\n",
    "\n",
    "#Now we set the optimization algorithm\n",
    "algorithm = \"trf\" # lm - levenberg marquardt, trf - trust region reflective, dogbox - dogleg algorithm\n",
    "optimizer.Set_Optimization_Algorithm(algorithm)\n",
    "\n",
    "#Now the optimizer have enough information to perform parameterization. Keep in mind that Optimizer is solely for\n",
    "#CPA model, a\n",
    "opti_params = optimizer.Calculation()"
   ]
  },
  {
   "cell_type": "code",
   "execution_count": 7,
   "metadata": {},
   "outputs": [
    {
     "name": "stdout",
     "output_type": "stream",
     "text": [
      "{'b0': 129.24402327699477, 'Gamma': 3640.745156582866, 'c1': 1.2114765046901492, 'AssocVol': 16.707300848909743, 'AssocEng': 1281.8909212078538}\n"
     ]
    }
   ],
   "source": [
    "print(opti_params)"
   ]
  },
  {
   "cell_type": "markdown",
   "metadata": {},
   "source": [
    "### Setting upper and lower bounds for decision variables"
   ]
  },
  {
   "cell_type": "markdown",
   "metadata": {},
   "source": [
    "### How to use multiple initial conditions for finding global minimum"
   ]
  },
  {
   "cell_type": "code",
   "execution_count": 8,
   "metadata": {},
   "outputs": [
    {
     "name": "stdout",
     "output_type": "stream",
     "text": [
      "Iteration 1\n",
      "Iteration 2\n",
      "Iteration 3\n",
      "Iteration 4\n",
      "Iteration 5\n",
      "Iteration 6\n",
      "Iteration 7\n",
      "Iteration 8\n",
      "Iteration 9\n",
      "Iteration 10\n",
      "Iteration 11\n",
      "Iteration 12\n",
      "Iteration 13\n",
      "Iteration 14\n",
      "Iteration 15\n",
      "Iteration 16\n",
      "Iteration 17\n",
      "Iteration 18\n",
      "Iteration 19\n",
      "Iteration 20\n",
      "[  3672.91999171    913.99654837    788.90871755   1054.6478689\n",
      "    838.4793947  119718.54111633    759.33121128    838.61651146\n",
      "   3486.676811      980.42307051    805.44606268   1729.57109214\n",
      "    809.3174309     883.18667484 116778.40733954   1024.20040017\n",
      "    814.90927558    808.57078416    907.46096641    907.27718614]\n",
      "6\n"
     ]
    }
   ],
   "source": [
    "#From here we create a Optimizer object\n",
    "optimizer = pytherm.Optimizer()\n",
    "\n",
    "#The optimizer is now given a model to use, the Model object\n",
    "optimizer.Add_Model(Thermo)\n",
    "\n",
    "#Now we add the experimental data object to the Optimizer object\n",
    "optimizer.Add_Experimental_Data(exp_data)\n",
    "\n",
    "#Now we set the optimization algorithm\n",
    "algorithm = \"trf\" # lm - levenberg marquardt, trf - trust region reflective, dogbox - dogleg algorithm\n",
    "optimizer.Set_Optimization_Algorithm(algorithm)\n",
    "\n",
    "bounds = {\n",
    "    \"b0\" : [125,135],\n",
    "    \"Gamma\" : [3000,4000],\n",
    "    \"c1\" : [0.5,1.5],\n",
    "    \"AssocVol\" : [10,30],\n",
    "    \"AssocEng\" : [1000, 2000]\n",
    "}\n",
    "iterations = 20\n",
    "optimizer.Setup_Multistart(bounds, iterations)\n",
    "\n",
    "opti_params = optimizer.Calculation(MultiStart = True) "
   ]
  },
  {
   "cell_type": "code",
   "execution_count": 9,
   "metadata": {},
   "outputs": [
    {
     "name": "stdout",
     "output_type": "stream",
     "text": [
      "{'b0': 130.46962441207668, 'Gamma': 3587.99570566664, 'c1': 1.2314493602827101, 'AssocVol': 16.573586448463594, 'AssocEng': 1303.631962165391}\n"
     ]
    }
   ],
   "source": [
    "print(opti_params)"
   ]
  },
  {
   "cell_type": "code",
   "execution_count": 13,
   "metadata": {
    "scrolled": true
   },
   "outputs": [
    {
     "data": {
      "image/png": "[encoded data removed]",
      "text/plain": [
       "<Figure size 432x288 with 1 Axes>"
      ]
     },
     "metadata": {
      "needs_background": "light"
     },
     "output_type": "display_data"
    },
    {
     "data": {
      "image/png": "[encoded data removed]",
      "text/plain": [
       "<Figure size 432x288 with 1 Axes>"
      ]
     },
     "metadata": {
      "needs_background": "light"
     },
     "output_type": "display_data"
    }
   ],
   "source": [
    "n = 100\n",
    "\n",
    "\n",
    "exp_psat = exp_data.Retrieve_data('teg_psat')\n",
    "exp_rho = exp_data.Retrieve_data('teg_rho')\n",
    "\n",
    "expT_psat = exp_psat[:,0]\n",
    "expP = exp_psat[:,1]\n",
    "\n",
    "expT_rho = exp_rho[:,0]\n",
    "expRho = exp_rho[:,1]\n",
    "\n",
    "T_model_psat = np.linspace(min(expT_psat),max(expT_psat),n)\n",
    "T_model_rho = np.linspace(min(expT_rho),max(expT_rho),n)\n",
    "P_model_imp = np.zeros(n) #Memory allocation - Good practice, more efficient\n",
    "rho_model_imp = np.zeros(n) #Memory allocation - Good practice, more efficient\n",
    "\n",
    "\n",
    "Thermo_improved = pytherm.Model()\n",
    "Thermo_improved.NoPureComp(1)\n",
    "Thermo_improved.CritProps(1,crit_props[\"Tc\"], crit_props[\"Pc\"], crit_props[\"Om\"])\n",
    "Thermo_improved.CPAParams(1,opti_params[\"b0\"],opti_params[\"Gamma\"],opti_params[\"c1\"])\n",
    "Thermo_improved.AssocParams(1,AssocSch,opti_params[\"AssocVol\"],opti_params[\"AssocEng\"])\n",
    "\n",
    "Thermo_improved.Setup_Thermo()\n",
    "\n",
    "for i in range(0,n):\n",
    "    P_model_imp[i], b, c = Thermo_improved.PBubble(T_model_psat[i],[1.0])\n",
    "    rho_model_imp[i] = Thermo.LiqRho(T_model_rho[i],[1.0])\n",
    "\n",
    "Thermo_improved.Finishup_Thermo()\n",
    "#-----------------------------------------------------------------------------------\n",
    "\n",
    "#plt.plot(T_model_psat,P_model,color=\"black\")\n",
    "plt.plot(T_model_psat,P_model_imp,color=\"red\")\n",
    "plt.plot(expT_psat,expP,'o',color=\"blue\",markersize=  6)\n",
    "plt.xlabel(\"Temperature [K]\")\n",
    "plt.ylabel(\"Vapor Pressure [bar]\")\n",
    "plt.yscale('log')\n",
    "\n",
    "plt.legend([\"Before optimization\",\"After optimization\",\"Experimental data\"])\n",
    "plt.grid()\n",
    "plt.show()\n",
    "\n",
    "#plt.plot(T_model_rho,rho_model,color=\"black\")\n",
    "plt.plot(T_model_rho,rho_model_imp,color=\"red\")\n",
    "plt.plot(expT_rho,expRho,'o',color=\"blue\",markersize=  6)\n",
    "plt.xlabel(\"Temperature [K]\")\n",
    "plt.ylabel(\"Liquid Density [mol/L]\")\n",
    "plt.legend([\"Before optimization\",\"After optimization\",\"Experimental data\"])\n",
    "plt.grid()\n",
    "plt.show()"
   ]
  }
 ],
 "metadata": {
  "kernelspec": {
   "display_name": "Python 3",
   "language": "python",
   "name": "python3"
  },
  "language_info": {
   "codemirror_mode": {
    "name": "ipython",
    "version": 3
   },
   "file_extension": ".py",
   "mimetype": "text/x-python",
   "name": "python",
   "nbconvert_exporter": "python",
   "pygments_lexer": "ipython3",
   "version": "3.8.3"
  }
 },
 "nbformat": 4,
 "nbformat_minor": 4
}
