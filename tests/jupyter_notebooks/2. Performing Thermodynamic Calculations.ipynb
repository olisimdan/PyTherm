{
 "cells": [
  {
   "cell_type": "markdown",
   "metadata": {},
   "source": [
    "# Lesson 2. Performing Thermodynamic Calculations\n",
    "\n",
    "<b>Recommended preliminary knowledge:</b> Knowledge gained in lesson 1 and corresponding recommended preliminary knowledge. Furthermore, the user is encouraged to familiarize themselves with the Python package <i>matplotlib</i>, which is useful for plotting results."
   ]
  },
  {
   "cell_type": "markdown",
   "metadata": {},
   "source": [
    "Development of thermodynamic modelling functions: Xiaodong Liang<br>\n",
    "Jupyter Notebook author: Daniel Qvistgaard"
   ]
  },
  {
   "cell_type": "markdown",
   "metadata": {},
   "source": [
    "## 1. Introduction\n",
    "Lesson 1 taught you how to set the engine up for running thermodynamic calculations, but no calculations have been made yet. This lesson will introduce thermodynamic calculations for the first time. To fully utilize this document, it is <b>heavily</b> suggested to be familiar with the contents of Lesson 1."
   ]
  },
  {
   "cell_type": "markdown",
   "metadata": {},
   "source": [
    "## 2. Initialization\n",
    "In order for any code blocks to properly work in this Jupyter Notebook, please run the following code block. This piece of code loads the CERE package containing thermodynamical functions. Furthermore, <i>Numpy</i> and <i>matplotlib</i> are loaded."
   ]
  },
  {
   "cell_type": "code",
   "execution_count": 1,
   "metadata": {},
   "outputs": [],
   "source": [
    "from pythermo import pythermo as pt #Required\n",
    "import numpy as np #Recommended\n",
    "from matplotlib import pyplot as plt #Recommended - used for plotting"
   ]
  },
  {
   "cell_type": "markdown",
   "metadata": {},
   "source": [
    "## 3. Python Functions"
   ]
  },
  {
   "cell_type": "markdown",
   "metadata": {},
   "source": [
    "<b>[3.1 Essential](#3.1-Essential)</b><br>\n",
    "The following two functions are essential to performing any thermodynamic calculations, and thus must be used.\n",
    "- Setup_Thermo\n",
    "- Finishup_Thermo\n",
    "\n",
    "<b>[3.2 Calculations](#3.2-Calculations)</b><br>\n",
    "The following list of functions include all the thermodynamic properties the package is capable of calculating.\n",
    "\n",
    "\n",
    "- PBubble\n",
    "- LiqRho\n",
    "- TBubble\n",
    "- PDew\n",
    "- TDew\n",
    "- PTFlash\n",
    "- PhaseEnvelope\n",
    "- TXYdiagram\n",
    "- PXYdiagram\n",
    "- TernaryXYDiagram\n",
    "- FugacityCoeff\n",
    "- DerivedProps\n",
    "- StaticPermittivity\n",
    "- StabilityAnalysis"
   ]
  },
  {
   "cell_type": "markdown",
   "metadata": {},
   "source": [
    "### 3.1 Essential"
   ]
  },
  {
   "cell_type": "markdown",
   "metadata": {},
   "source": [
    "<b>Setup_Thermo & Finishup_Thermo</b><br>\n",
    "These two functions are the only essential functions, when it comes to running thermodynamic calculations. These functions <b>must</b> be used every time thermodynamic calculations are to be made. The point of these functions is to run <i>Setup_Thermo</i> just before thermodynamic calculations are performed, and <i>Finishup_Thermo</i> is run after thermodynamic calculations have been concluded. Engine preparations must be done <b>before</b> calling Setup_Thermo(). A document containing thermodynamic calculations must adhere to the following structure.\n",
    "***\n",
    "<i>\n",
    "Thermo = pt.Model()\n",
    "\n",
    "    ..... Preparing the engine (see lesson 1) .....\n",
    "    \n",
    "Thermo.Setup_Thermo()\n",
    "    \n",
    "    ..... Running thermodynamic calculations .....\n",
    "    \n",
    "Thermo.Finishup_Thermo()\n",
    "</i>\n",
    "***\n",
    "\n",
    "Let's take a look at a simple example, where the engine is set up, and calculations are run."
   ]
  },
  {
   "cell_type": "code",
   "execution_count": 2,
   "metadata": {},
   "outputs": [],
   "source": [
    "#The engine is prepared using the method learned in Lesson 1. Here is an example with pure water modelled with CPA.\n",
    "Thermo = pt.Model()\n",
    "Thermo.ChooseAModel(1) # 1 - CPA\n",
    "Thermo.NoPureComp(1)\n",
    "Thermo.CritProps(1, 647.29, 220.64000, 0.3449)\n",
    "Thermo.CPAParams(1, 14.515, 1017.3, 0.6736)\n",
    "Thermo.AssocParams(1, 22, 69.2, 2003.2)\n",
    "\n",
    "#Now we are prepared to run calculations. In this example nothing happens, but once calculation functions are introduced,\n",
    "#we will show examples with actual calculations.\n",
    "Thermo.Setup_Thermo()\n",
    "\n",
    "    #Run any desired calculations here.\n",
    "\n",
    "Thermo.Finishup_Thermo()\n"
   ]
  },
  {
   "cell_type": "markdown",
   "metadata": {},
   "source": [
    "### 3.2 Calculations"
   ]
  },
  {
   "cell_type": "markdown",
   "metadata": {},
   "source": [
    "<b>PBubble</b><br>\n",
    "This function is used to calculate the bubble pressure of a pure component or mixture. For pure components, the bubble pressure is equal to vapor pressure.<br>\n",
    "\n",
    "<i>P, LnK, ierr = PBubble(T, Moles, Pini)</i>\n",
    "- T: Temperature [K]\n",
    "- Moles: Python list mole fraction of each compound. \n",
    "- Pini: Initial guess for pressure (optional, default = 1 bar)\n",
    "- P: Bubble pressure [bar]\n",
    "- LnK: logarithm of K-factors\n",
    "- ierr: successful or not (ierr=0 means successful\n",
    "\n",
    "Typically <i>Pini</i> can be left empty, but if calculations give weird results, it may help to give the engine a better initial guess.<br>\n",
    "The <i>moles</i> list must have a length equal to the amount of compounds in the system. As an example, a system containing 40% component 1 and 60% component 2 would have <i>moles = [0.4, 0.6]</i>"
   ]
  },
  {
   "cell_type": "code",
   "execution_count": 3,
   "metadata": {},
   "outputs": [
    {
     "name": "stdout",
     "output_type": "stream",
     "text": [
      "Bubble pressure of water at 100C: 0.996501681049375 bar\n",
      "No errors\n"
     ]
    }
   ],
   "source": [
    "#The engine is prepared using the method learned in Lesson 1. Here is an example with pure water modelled with CPA.\n",
    "Thermo = pt.Model()\n",
    "Thermo.ChooseAModel(1) # 1 - CPA\n",
    "Thermo.NoPureComp(1)\n",
    "Thermo.CritProps(1, 647.29, 220.64000, 0.3449)\n",
    "Thermo.CPAParams(1, 14.515, 1017.3, 0.6736)\n",
    "Thermo.AssocParams(1, 22, 69.2, 2003.2)\n",
    "\n",
    "#We are now ready to run calculations\n",
    "Thermo.Setup_Thermo()\n",
    "\n",
    "#In this example, the vapor pressure of water is investigated at boiling point (373K). PBubble is run as described above.\n",
    "T = 373\n",
    "moles = [1.0]\n",
    "P, LnK, ierr = Thermo.PBubble(T,moles)\n",
    "\n",
    "Thermo.Finishup_Thermo()\n",
    "\n",
    "#The results are now printed\n",
    "print(\"Bubble pressure of water at 100C: \"+ str(P) + \" bar\")\n",
    "\n",
    "if ierr == 0:\n",
    "    print(\"No errors\")\n",
    "else:\n",
    "    print(\"Error\")"
   ]
  },
  {
   "cell_type": "markdown",
   "metadata": {},
   "source": [
    "The bubble pressure of water has successfully been calculated without errors. Let's try a similar calculation, where the vapor pressure curve of water over a temperature range of 0-100C is used."
   ]
  },
  {
   "cell_type": "code",
   "execution_count": 4,
   "metadata": {},
   "outputs": [
    {
     "data": {
      "image/png": "[encoded data removed]",
      "text/plain": [
       "<Figure size 432x288 with 1 Axes>"
      ]
     },
     "metadata": {
      "needs_background": "light"
     },
     "output_type": "display_data"
    }
   ],
   "source": [
    "#The engine is prepared using the method learned in Lesson 1. Here is an example with pure water modelled with CPA.\n",
    "Thermo = pt.Model()\n",
    "Thermo.ChooseAModel(1) # 1 - CPA\n",
    "Thermo.NoPureComp(1)\n",
    "Thermo.CritProps(1, 647.29, 220.64000, 0.3449)\n",
    "Thermo.CPAParams(1, 14.515, 1017.3, 0.6736)\n",
    "Thermo.AssocParams(1, 22, 69.2, 2003.2)\n",
    "\n",
    "#We are now ready to run calculations\n",
    "Thermo.Setup_Thermo()\n",
    "\n",
    "#In this example, the vapor pressure of water is investigated at a temperature range of 273K-373K. The temperature curve\n",
    "#consist of N linearly spaced points.\n",
    "\n",
    "N = 100 #Amount of linearly spaced temperatures\n",
    "T = np.linspace(273.15, 373.15, N) #This is a numpy command dedicated to creating a linearly spaced sequence of temperatures\n",
    "P = np.zeros(N) #An empty numpy array is created for memory allocation, and filled later\n",
    "moles = [1.0]\n",
    "\n",
    "for i in range(0,N): #The role of this for-loop is to compute the bubble pressure at each temperature in the sequence\n",
    "    P[i], LnK, ierr = Thermo.PBubble(T[i],moles) #Here the empty numpy array is filled step by step.\n",
    "\n",
    "Thermo.Finishup_Thermo()\n",
    "\n",
    "\n",
    "#Now that thermodynamic calculations have been completed, it is time to visualize the results. Here the matplotlib package\n",
    "#is utilized. It is adviced that you become familiar with this package, or find a similar alternative.\n",
    "plt.plot(T,P,'black')\n",
    "plt.xlabel('Temperature [K]')\n",
    "plt.ylabel('Vapor pressure [bar]')\n",
    "plt.grid()\n",
    "plt.title('Water vapor pressure vs. temperature')\n",
    "plt.show()"
   ]
  }
 ],
 "metadata": {
  "kernelspec": {
   "display_name": "Python 3",
   "language": "python",
   "name": "python3"
  },
  "language_info": {
   "codemirror_mode": {
    "name": "ipython",
    "version": 3
   },
   "file_extension": ".py",
   "mimetype": "text/x-python",
   "name": "python",
   "nbconvert_exporter": "python",
   "pygments_lexer": "ipython3",
   "version": "3.8.3"
  }
 },
 "nbformat": 4,
 "nbformat_minor": 4
}
