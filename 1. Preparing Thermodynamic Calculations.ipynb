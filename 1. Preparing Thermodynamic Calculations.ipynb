{
 "cells": [
  {
   "cell_type": "markdown",
   "metadata": {},
   "source": [
    "# Lesson 1. Preparing Thermodynamic Calculations\n",
    "\n",
    "<b>Recommended preliminary knowledge:</b> Basic familiarity with Python, especially the use of Numpy. Familiarity with various equations of state (SRK, PR, CPA, etc.)</b>"
   ]
  },
  {
   "cell_type": "markdown",
   "metadata": {},
   "source": [
    "Development of thermodynamic modelling functions: Xiaodong Liang<br>\n",
    "Jupyter Notebook author: Daniel Qvistgaard"
   ]
  },
  {
   "cell_type": "markdown",
   "metadata": {},
   "source": [
    "## 1. Introduction\n",
    "This interactive document is made with the intend of teaching the user the very basics of how to set up calculations using the CERE Python tool. No calculations will be made in this document, the intention is solely to help the user prepare the tool for calculations. Thermodynamic calculations will be introduced in Lesson 2, which is recommended to read after this document."
   ]
  },
  {
   "cell_type": "markdown",
   "metadata": {},
   "source": [
    "## 2. Initialization\n",
    "In order for any code blocks to properly work in this Jupyter Notebook, please run the following code block. This piece of code loads the CERE package containing thermodynamical functions."
   ]
  },
  {
   "cell_type": "code",
   "execution_count": 1,
   "metadata": {},
   "outputs": [],
   "source": [
    "import pytherm #required"
   ]
  },
  {
   "cell_type": "markdown",
   "metadata": {},
   "source": [
    "## 3. Python Functions"
   ]
  },
  {
   "cell_type": "markdown",
   "metadata": {},
   "source": [
    "***\n",
    "**Table of Contents**<br><br>\n",
    "<b>[3.1 Essential](#3.1-Essential)</b><br>\n",
    "The following list of functions are essential to setting up thermodynamic calculations, and must be used every time.\n",
    "- ChooseAModel\n",
    "- NoPureComp\n",
    "- CritProps\n",
    "\n",
    "<b>[3.2 Simple](#3.2-Simple)</b><br>\n",
    "The following list of functions are relatively simple, although they may be optional depending on the model chosen.\n",
    "- CPAParams\n",
    "- AssocParams\n",
    "- NoSpecKij\n",
    "- SpecKij\n",
    "\n",
    "<b>[3.3 Advanced](#3.3-Advanced)</b><br>\n",
    "The following list of functions offer more advanced features, and some of them may be necessary, depending on the model chosen.\n",
    "- PenelouxVol\n",
    "- PolarProps\n",
    "- SAFTParams\n",
    "- IonProps\n",
    "- HBondInfo\n",
    "- DGTParams\n",
    "- NoSpecHVNRTL\n",
    "- SpecHVNRTL\n",
    "- NoSpecCrossAssoc\n",
    "- SpecCrossAssoc\n",
    "- NoSpecCrossHBond\n",
    "- SpecCrossHBond\n",
    "- NoAppComp\n",
    "- SpecAppCompStoich\n",
    "\n",
    "<b>[3.4 Get-functions](#3.4-Get-functions)</b><br>\n",
    "The following list of functions are solely used to retrieve information about the entered thermodynamic information. The use of these functions are <i>completely optional</i>.\n",
    "- Get_NoPureComp\n",
    "- Get_Tc\n",
    "- Get_Pc\n",
    "- Get_Omega\n",
    "- Get_NoAssocSite\n",
    "- Get_NoSpecKij\n",
    "- Get_NoSpecHVNRTL\n",
    "- Get_NoSpecCrossAssoc\n",
    "- Get_NoSpecCrossHBond\n",
    "- Get_NoAppComp\n",
    "***"
   ]
  },
  {
   "cell_type": "markdown",
   "metadata": {},
   "source": [
    "### 3.0 First Things First"
   ]
  },
  {
   "cell_type": "markdown",
   "metadata": {},
   "source": [
    "The <i>very first thing</i> to do when setting up thermodynamic calculations, is to load the Python class containing thermodynamic functions. Do this by running the following block of code."
   ]
  },
  {
   "cell_type": "code",
   "execution_count": 2,
   "metadata": {},
   "outputs": [],
   "source": [
    "# Remember - \"pytherm\" refers to the python module\n",
    "# \"Thermo\" is now an object we may access at any point. Using functions from this class \n",
    "# requires dot-notation, which we will see examples of soon.\n",
    "\n",
    "Thermo = pytherm.Model()"
   ]
  },
  {
   "cell_type": "markdown",
   "metadata": {},
   "source": [
    "If you are ever in doubt about how a function works, use the <i>help</i>-function. Write \"<i>help(Thermo.FUNCTIONNAME)</i>\". For an example, try running the following block of code:"
   ]
  },
  {
   "cell_type": "code",
   "execution_count": 3,
   "metadata": {},
   "outputs": [
    {
     "name": "stdout",
     "output_type": "stream",
     "text": [
      "Help on method ChooseAModel in module pytherm:\n",
      "\n",
      "ChooseAModel(ieos) method of pytherm.Model instance\n",
      "    This function allows the user to pick a model to use\n",
      "    \n",
      "    :param ieos: integer\n",
      "    \n",
      "      1 - CPA\n",
      "    \n",
      "      2 - SRK\n",
      "    \n",
      "      3 - PR\n",
      "    \n",
      "      4 - PC-SAFT  (400, org UC + simplified 2), 401 (org UC + simplified 1), 402 (org UC + org HC)\n",
      "                410 (new UC + simplified 2), 411 (new UC + simplified 1), 412 (new UC + org HC)\n",
      "    \n",
      "      6 - ePC-SAFT (600, org UC + simplified 2), 601 (org UC + simplified 1), 602 (org UC + org HC)\n",
      "                610 (new UC + simplified 2), 611 (new UC + simplified 1), 612 (new UC + org HC)\n",
      "    \n",
      "      11 - eCPA\n",
      "\n"
     ]
    }
   ],
   "source": [
    "Thermo = pytherm.Model()\n",
    "help(Thermo.ChooseAModel)"
   ]
  },
  {
   "cell_type": "markdown",
   "metadata": {},
   "source": [
    "### 3.1 Essential"
   ]
  },
  {
   "cell_type": "markdown",
   "metadata": {},
   "source": [
    "<b>ChooseAModel</b><br>\n",
    "This function tells the engine which model to use, when calculating thermodynamic properties. The only input to this function is "
   ]
  },
  {
   "cell_type": "code",
   "execution_count": 4,
   "metadata": {},
   "outputs": [],
   "source": [
    "#Load class\n",
    "Thermo = pytherm.Model()\n",
    "\n",
    "#Below are examples of choosing a model. Notice the dot-notation: \"Thermo.FUNCTIONNAME\"\n",
    "Thermo.ChooseAModel(1) # CPA\n",
    "\n",
    "Thermo.ChooseAModel(2) # SRK\n",
    "\n",
    "Thermo.ChooseAModel(3) # PR\n",
    "\n",
    "Thermo.ChooseAModel(4) # PC-SAFT\n",
    "\n",
    "Thermo.ChooseAModel(410) # PC-SAFT (new UC + simplified 2)\n",
    "\n",
    "Thermo.ChooseAModel(6) # ePC-SAFT\n",
    "\n",
    "Thermo.ChooseAModel(11) # eCPA\n",
    "\n",
    "#For real usecases, you only need to choose a model once. In this example the model is \n",
    "#overwritten each time."
   ]
  },
  {
   "cell_type": "markdown",
   "metadata": {},
   "source": [
    "<b>NoPureComp</b><br>\n",
    "This function tells the engine the amount of compounds to be accounted for in the thermodynamic calculations. The use of this function is straight forward, since the only input to the function is an integer representing the amount of compounds in the physical system. See an example in the following code block."
   ]
  },
  {
   "cell_type": "code",
   "execution_count": 5,
   "metadata": {},
   "outputs": [],
   "source": [
    "#Load class\n",
    "Thermo = pytherm.Model()\n",
    "\n",
    "#Below are examples of setting the number of compounds\n",
    "Thermo.NoPureComp(1) # 1 component - represents a pure component system.\n",
    "\n",
    "Thermo.NoPureComp(2) # 2 components - represents a binary system.\n",
    "\n",
    "Thermo.NoPureComp(3) # 3 components - represents a ternary system.\n",
    "\n",
    "Thermo.NoPureComp(4) # 4 components - represents a quarternary system.\n",
    "\n",
    "#For real usecases, you only need to choose a model once. In this example the model is \n",
    "#overwritten each time."
   ]
  },
  {
   "cell_type": "markdown",
   "metadata": {},
   "source": [
    "<b>CritProps</b><br>\n",
    "This function feeds the critical properties of a compound to the engine. Four inputs are required, see the following:<br>\n",
    "\n",
    "<i>CritProps(idx, Tc, Pc, omega)</i><br>\n",
    "\n",
    "Tc, Pc and omega represent the critical temperature [K], critical pressure [bar] and acentric factor respectively. The input <i>idx</i> represent the ID of a compound, and the ID is an integer. For a pure component system, use <i>idx=1</i>, and increase the idx by one for each extra component added. See examples in the code block below. Please note, this must be run after setting the number of components."
   ]
  },
  {
   "cell_type": "code",
   "execution_count": 6,
   "metadata": {},
   "outputs": [],
   "source": [
    "#Load class\n",
    "Thermo = pytherm.Model()\n",
    "\n",
    "#----------------------------------------------------------------------------\n",
    "#In this example a pure compound system is set up, and critical properties\n",
    "#are set for methane (as an example).\n",
    "Thermo.NoPureComp(1) # System contains one compound\n",
    "Thermo.CritProps(1, 190.6, 45.9, 0.01155) # Critical properties for Methane\n",
    "#----------------------------------------------------------------------------\n",
    "\n",
    "#----------------------------------------------------------------------------\n",
    "#Let's try an example of a system with two components\n",
    "#Note that methane and MEG will have the idx's 1 and 2 respectively \n",
    "#throughout thermodynamic calculations.\n",
    "Thermo.NoPureComp(2) # System contains two compounds\n",
    "Thermo.CritProps(1, 190.6, 45.9, 0.01155) # Critical properties for Methane\n",
    "Thermo.CritProps(2, 719.6, 82.0, 0.5211) # Critical properties for MEG\n",
    "#----------------------------------------------------------------------------\n"
   ]
  },
  {
   "cell_type": "markdown",
   "metadata": {},
   "source": [
    "### 3.2 Simple"
   ]
  },
  {
   "cell_type": "markdown",
   "metadata": {},
   "source": [
    "<b>CPAParams</b><br>\n",
    "This function is only necessary when using the CPA model, and should be applied for every compound when CPA is used.\n",
    "\n",
    "This function feeds the CPA parameters of a compound to the engine. Four inputs are required, see the following:<br>\n",
    "\n",
    "<i>CPAParams(idx, b, Gamma, c1)</i><br>\n",
    "\n",
    "b, Gamma and c1 represent the liquid volume [cm^3/mol], Reduced energy parameter [K] and temperature correction term respectively. The input <i>idx</i> represent the ID of a compound, and the ID is an integer. For a pure component system, use <i>idx=1</i>, and increase the idx by one for each extra component added. See examples in the code block below. Please note, this must be run after setting the number of components."
   ]
  },
  {
   "cell_type": "code",
   "execution_count": 7,
   "metadata": {},
   "outputs": [],
   "source": [
    "#Load class\n",
    "Thermo = pytherm.Model()\n",
    "\n",
    "#----------------------------------------------------------------------------\n",
    "#In this example a pure compound system is set up, and CPA parameters\n",
    "#are set for methane (as an example).\n",
    "Thermo.NoPureComp(1) # System contains one compound\n",
    "Thermo.CPAParams(1, 29.10, 959.03, 0.4472) # CPA parameters for Methane\n",
    "#----------------------------------------------------------------------------\n",
    "\n",
    "#----------------------------------------------------------------------------\n",
    "#Let's try an example of a system with two components\n",
    "#Note that methane and MEG will have the idx's 1 and 2 respectively \n",
    "#throughout thermodynamic calculations.\n",
    "Thermo.NoPureComp(2) # System contains two compounds\n",
    "Thermo.CPAParams(1, 29.10, 959.03, 0.4472) # CPA parameters for Methane\n",
    "Thermo.CPAParams(2, 51.4, 2531.7, 0.6744) # CPA parameters for MEG 4C\n",
    "#----------------------------------------------------------------------------\n"
   ]
  },
  {
   "cell_type": "markdown",
   "metadata": {},
   "source": [
    "<b>AssocParams</b><br>\n",
    "This function is necessary for CPA model, but only applies to associating compounds. For non-associating compounds, like methane, leave this function out.\n",
    "\n",
    "This function feeds the association parameters of a compound to the engine. Four inputs are required, see the following:<br>\n",
    "\n",
    "<i>AssocParams(idx, AssocScheme, AssocVol, AssocEng , c1)</i><br>\n",
    "\n",
    "AssiocScheme, Assocvol and AssocEng represent the association scheme, self-association volume and reduced self-association energy [K]. For CPA; the self-association volume = 1000*beta. respectively. The input <i>idx</i> represent the ID of a compound, and the ID is an integer. For a pure component system, use <i>idx=1</i>, and increase the idx by one for each extra component added. See examples in the code block below. Please note, this must be run after setting the number of components.\n",
    "\n",
    "<b>Guide on how to assign AssocSch:</b><br>\n",
    "AssocSch: association scheme, (maximum) three integers:\n",
    "- 1st is no of glue sites, 2nd is no of positive sites, 3rd is no of negative sites<br>\n",
    "- e.g. 022 = 4C, 011 = 2B, 100 = 1A, 001 = solvation with one negative site<br>\n",
    "\n",
    "\n",
    "Let's take a look at an example with MEG 4C. The 4C association scheme has 2 positive sites and 2 negative sites. Using the guide above, it is determined that the correct AssocSch is 022. Since the first digit is 0, it may be ignored."
   ]
  },
  {
   "cell_type": "code",
   "execution_count": 8,
   "metadata": {},
   "outputs": [],
   "source": [
    "#Load class\n",
    "Thermo = pytherm.Model()\n",
    "\n",
    "#----------------------------------------------------------------------------\n",
    "#In this example a pure compound system is set up, and association parameters\n",
    "#are set for methane (as an example).\n",
    "Thermo.NoPureComp(1) # System contains one compound\n",
    "Thermo.AssocParams(1, 22, 14.1, 2375.8) # Association parameters for MEG 4C\n",
    "#----------------------------------------------------------------------------"
   ]
  },
  {
   "cell_type": "markdown",
   "metadata": {},
   "source": [
    "<b>NoSpecKij & SpecKij</b><br>\n",
    "These functions are used whenever mixtures of more than one component is present. \n",
    "\n",
    "First the number of kij's is specified, by using the following function\n",
    "<i>NoSpecKij(n)</i><br>\n",
    "where <i>n</i> is the amount of kij's to be specified. Once this has been run, we can specify the kij's using the following function <i>n</i> times.\n",
    "\n",
    "<i>SpecKij(idx, i, j, kija, kijb, kijc, kijd)</i><br>\n",
    "\n",
    "The input <i>idx</i> represent the ID of a compound, and the ID is an integer. \n",
    "\n",
    "<i>i</i> and <i>j</i> are integers, used to identify components. FOr instance, if the kij describes an interaction between component 1 and component 2, then i = 1 and j = 2.\n",
    "\n",
    "kija, kijb, kijc and kijd are determined from the following expression.\n",
    "$kij = kija + kijb * T + kijc / T + kijd * ln(T)$\n",
    "\n",
    "Let's take a look at an example of two components with kij = 0.1."
   ]
  },
  {
   "cell_type": "code",
   "execution_count": 9,
   "metadata": {},
   "outputs": [],
   "source": [
    "#Load class\n",
    "Thermo = pytherm.Model()\n",
    "\n",
    "Thermo.NoSpecKij(1) #Only a single kij is present in this binary system.\n",
    "\n",
    "#In this example a hypothetical component 1 has kij = 0.1 with component 2. In this case, \n",
    "idx = 1 #Because this is the first (and only) kij\n",
    "i = 1 # i corresponds to component 1\n",
    "j = 2 # j corresponds to component 2\n",
    "\n",
    "#kij is expressed as \n",
    "#kij = kija + kijb * T + kijc / T + kijd * ln(T)\n",
    "#In this case, \n",
    "kija = 0.1\n",
    "kijb = 0\n",
    "kijc = 0\n",
    "kijd = 0\n",
    "\n",
    "#This specifies the kij\n",
    "Thermo.SpecKij(idx, i, j, kija, kijb, kijc, kijd)\n",
    "\n"
   ]
  },
  {
   "cell_type": "markdown",
   "metadata": {},
   "source": [
    "### 3.3 Advanced"
   ]
  },
  {
   "cell_type": "markdown",
   "metadata": {},
   "source": [
    "### 3.4 Get-functions"
   ]
  },
  {
   "cell_type": "markdown",
   "metadata": {},
   "source": [
    "## 4. Examples"
   ]
  },
  {
   "cell_type": "markdown",
   "metadata": {},
   "source": [
    "### 4.1 Setting up CPA calculations for Water (pure component system)\n",
    "Let's try preparing the engine for CPA calculations for pure water!<br> \n",
    "Critical properties for water are $T_c = 647.29 K$, $P_c = 220.64 bar$ and $\\omega = 0.3449$.<br>\n",
    "CPA parameters for water with association scheme 4C are $b = 14.515 cm^3/mol$, $\\Gamma = 1017.3 K$ and $c_1 = 0.6736$.<br>\n",
    "Association parameters for water with association 4C are $\\beta = 69.2\\times 10^3$, $\\varepsilon/R = 2003.2 K$.\n",
    "The assoc scheme is $022$ (0 glue sites, 2 positive sites, 2 negative sites), however when the first digit is 0, we just skip it when inputting into <i>AssocParams</i>"
   ]
  },
  {
   "cell_type": "code",
   "execution_count": 10,
   "metadata": {},
   "outputs": [],
   "source": [
    "#The class is loaded\n",
    "Thermo = pytherm.Model()\n",
    "\n",
    "#We tell the engine to use CPA for calculations\n",
    "Thermo.ChooseAModel(1) # 1 - CPA\n",
    "\n",
    "#Since it is a pure component system, we set the number of pure components to 1\n",
    "Thermo.NoPureComp(1)\n",
    "\n",
    "#Here we write the critical properties for water (we denote the idx = 1)\n",
    "Thermo.CritProps(1, 647.29, 220.64000, 0.3449)\n",
    "\n",
    "#Here we write the CPA parameters for water\n",
    "Thermo.CPAParams(1, 14.515, 1017.3, 0.6736)\n",
    "\n",
    "#Here we write the association parameters for water.\n",
    "Thermo.AssocParams(1, 22, 69.2, 2003.2)\n",
    "\n",
    "#Voila! We are ready to perform thermodynamic calculations with water."
   ]
  },
  {
   "cell_type": "markdown",
   "metadata": {},
   "source": [
    "### 4.2 Setting up CPA calculations for MEG-Methane (binary system)\n",
    "Let's try preparing the engine for CPA calculations for a binary system containing MEG and Methane!<br> \n",
    "For this example we are not gonna list the critical properties and CPA parameters here, however a table of such values may be found in Lesson 3. Notice that we denote MEG component 1 and Methane component 2 here, which is done using the <i>idx</i> argument in the functions below."
   ]
  },
  {
   "cell_type": "code",
   "execution_count": 11,
   "metadata": {},
   "outputs": [],
   "source": [
    "#The class is loaded\n",
    "Thermo = pytherm.Model()\n",
    "\n",
    "#We tell the engine to use CPA for calculations\n",
    "Thermo.ChooseAModel(1) # 1 - CPA\n",
    "\n",
    "#Since it is a binary system, we set the number of compounds to 2.\n",
    "Thermo.NoPureComp(2)\n",
    "\n",
    "#Here we write the critical properties for both compounds\n",
    "Thermo.CritProps(1, 719.6, 82.0, 0.5211) #MEG 4C\n",
    "Thermo.CritProps(2, 190.6, 45.9, 0.01155) #Methane\n",
    "\n",
    "#Here we write the CPA parameters for both compounds\n",
    "Thermo.CPAParams(1, 51.4, 2531.7, 0.6744) #MEG 4C\n",
    "Thermo.CPAParams(2, 29.10, 959.03, 0.4472) #Methane\n",
    "\n",
    "#Here we write the association parameters MEG. Note that methane is a non-associating compound, \n",
    "#and thus does not need association parameters.\n",
    "Thermo.AssocParams(1, 22, 14.1, 2375.8) #MEG 4C\n",
    "\n",
    "#A corrective parameter need to be used to adjust for the binary behavior, \n",
    "#this parameter is the binary interaction parameter (kij). We only need one kij\n",
    "Thermo.NoSpecKij(1) #Number of specified kij's (in this case 1)\n",
    "\n",
    "#Now we specify the kij below. Since it is the first kij, and is accounting for interaction between \n",
    "#component 1 and 2, we denote idx = 1, i = 1 and j = 2\n",
    "Thermo.SpecKij(1,1,2,0.1787,0,0) #Kij\n",
    "\n",
    "#Voila! We are ready to perform thermodynamic calculations with the binary MEG(4C)-Methane system."
   ]
  }
 ],
 "metadata": {
  "kernelspec": {
   "display_name": "Python 3",
   "language": "python",
   "name": "python3"
  },
  "language_info": {
   "codemirror_mode": {
    "name": "ipython",
    "version": 3
   },
   "file_extension": ".py",
   "mimetype": "text/x-python",
   "name": "python",
   "nbconvert_exporter": "python",
   "pygments_lexer": "ipython3",
   "version": "3.8.3"
  }
 },
 "nbformat": 4,
 "nbformat_minor": 4
}
