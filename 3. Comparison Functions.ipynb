{
 "cells": [
  {
   "cell_type": "markdown",
   "metadata": {},
   "source": [
    "# Lesson 3. Comparison functions\n",
    "\n",
    "<b>Recommended preliminary knowledge:</b> Be familiar with setting up thermodynamic calculations using the xThermoInterface python package, and be able to perform simple simple thermodynami calculations using the package. See Jupyter Notebook <b>INSERT NOTEBOOK HERE WHEN MADE</b>"
   ]
  },
  {
   "cell_type": "markdown",
   "metadata": {},
   "source": [
    "Development of thermodynamic modelling functions: Xiaodong Liang<br>\n",
    "Development of comparison functions: Daniel Qvistgaard<br>\n",
    "Jupyter Notebook author: Daniel Qvistgaard"
   ]
  },
  {
   "cell_type": "markdown",
   "metadata": {},
   "source": [
    "## 1. Introduction "
   ]
  },
  {
   "cell_type": "markdown",
   "metadata": {},
   "source": [
    "Comparison functions are used to measure the ability of a model to predict experimental data. For each thermodynamic function, a corresponding comparison function exist. The comparison function uses experimental data as input,  and outputs the deviation between model predictions and experimental data.\n",
    "\n",
    "Various types of deviations exist, and choosing a type depends on the context.\n",
    "- Absolute Relative Deviation (ARD) : $ARD = abs(\\frac{model-exp}{exp})\\cdot 100\\%$\n",
    "- Absolute Deviation (AD) : $AD = abs( model - exp )$\n",
    "- Relative Deviation (RD) : $RD = \\frac{model-exp}{exp}\\cdot 100\\%$\n",
    "\n",
    "If ARD is chosen, the output unit will always be percentage. If AD is chosen, the output unit will always be the physical unit of the corresponding thermodynamic property.<br>\n",
    "\n",
    "**Feel free** to run the code live in this Jupyter Notebook document. For any code to work, make sure to run all the code in the initialization section. Afterwards, code may be run for each individual comparison function."
   ]
  },
  {
   "cell_type": "markdown",
   "metadata": {},
   "source": [
    "## 2. Initialization"
   ]
  },
  {
   "cell_type": "markdown",
   "metadata": {},
   "source": [
    "In order to use any comparison functions, the following function library must be called."
   ]
  },
  {
   "cell_type": "code",
   "execution_count": 1,
   "metadata": {},
   "outputs": [],
   "source": [
    "#from functions.comparisonFcn import *"
   ]
  },
  {
   "cell_type": "markdown",
   "metadata": {},
   "source": [
    "Now, prepare for thermodynamic calculations as one normally would. Load xThermoInterface to get access to the usual thermodynamic functions. It is also recommended to import numpy, matplotlib and pandas."
   ]
  },
  {
   "cell_type": "code",
   "execution_count": 2,
   "metadata": {},
   "outputs": [],
   "source": [
    "import xThermoInterface as xt #Required\n",
    "import numpy as np #Recommended\n",
    "from matplotlib import pyplot as plt #Recommended - used for plotting\n",
    "import pandas as pd #Recommended"
   ]
  },
  {
   "cell_type": "markdown",
   "metadata": {},
   "source": [
    "**Make sure to run the above code, if you wish to perform any calculations live in this document!!**"
   ]
  },
  {
   "cell_type": "markdown",
   "metadata": {},
   "source": [
    "## 3. Thermodynamic Properties"
   ]
  },
  {
   "cell_type": "markdown",
   "metadata": {},
   "source": [
    "This section contains thermodynamic properties used for modelling examples in this Jupyter notebook. Whenever calculations are run in this document, they are based on these properties.\n",
    "### 3.1 Critical Properties\n",
    "The following table contains the critical properties for the compounds used in this document\n",
    "\n",
    "| Compound | Tc [K] | Pc [bar] |  omega  |       Source      |\n",
    "|:--------:|:------:|:--------:|:-------:|:-----------------:|\n",
    "|    Water |  647.3 |    220   |  0.3449 | Will insert later |\n",
    "|  Methane |  190.6 |   45.9   | 0.01155 | Will insert later |\n",
    "|      MEG |  719.7 |   82.0   |  0.5211 | Will insert later |\n",
    "\n",
    "### 3.2 CPA Parameters\n",
    "CPA parameters for the compounds used in this document are found in the table below\n",
    "\n",
    "| Compound | b [cm^3/ mol] | gamma [K] |   c1   | beta*10^3 | eps/R [K] | Assoc. Scheme |       Source      |\n",
    "|:--------:|:----------:|:---------:|:------:|:---------:|:---------:|:-------------:|:-----------------:|\n",
    "|    Water |  14.515  |   1017.3  | 0.6736 |    69.2   |   2003.2  |       4C      | Will insert later |\n",
    "|  Methane |   29.10  |   959.03  | 0.4472 |    N/A    |    N/A    |      N/A      | Will insert later |\n",
    "|      MEG |   51.4   |   2531.7  | 0.6744 |    14.1   |   2375.8  |       4C      | Will insert later |\n",
    "\n",
    "### 3.3 Binary interaction parameters\n",
    "The binary interaction parameters used in this document are found in the tble below.\n",
    "\n",
    "| Compound 1 | Compound 2 |   kij  |       Source      |\n",
    "|:----------:|:----------:|:------:|:-----------------:|\n",
    "|   MEG(4C)  |   Methane  | 0.1787 | Will insert later |"
   ]
  },
  {
   "cell_type": "markdown",
   "metadata": {},
   "source": [
    "## 4. Functions "
   ]
  },
  {
   "cell_type": "markdown",
   "metadata": {},
   "source": [
    "In general, a comparison function exist for every single model function. In order to obtain helpful information on any function, execute help(functionName)\n",
    "\n",
    "**Table of Contents**<br>\n",
    "[PBubble](#4.1-PBubble)<br>\n",
    "[TBubble](#4.2-TBubble)<br>\n",
    "[PDew](#4.3-PDew)<br>\n",
    "[TDew](#4.4-TDew)<br>\n",
    "[LiqRho](#4.5-LiqRho)<br>\n",
    "[PTFlash](#4.6-PTFlash)<br>\n",
    "***"
   ]
  },
  {
   "cell_type": "markdown",
   "metadata": {},
   "source": [
    "### 4.1 PBubble"
   ]
  },
  {
   "cell_type": "markdown",
   "metadata": {},
   "source": [
    "In this example we calculate the bubble pressure for a pure component, using CPA. First, we set up CPA for water"
   ]
  },
  {
   "cell_type": "code",
   "execution_count": 3,
   "metadata": {},
   "outputs": [],
   "source": [
    "Case = xt.xThermoInterface()\n",
    "Case.ChooseAModel(1)\n",
    "nc = 1\n",
    "Case.NoPureComp(nc)\n",
    "Case.CritProps(1, 647.29, 220.64000, 0.3449)\n",
    "Case.CPAParams(1, 14.515, 1017.3, 0.6736)\n",
    "Case.AssocParams(1, 22, 69.2, 2003.2)"
   ]
  },
  {
   "cell_type": "markdown",
   "metadata": {},
   "source": [
    "Now we load experimental data as a list of values. The comparison function requires a composition (in thise case it is 1, since it is a pure component system). Furthermore, the function needs a temperature list and pressure list."
   ]
  },
  {
   "cell_type": "code",
   "execution_count": 4,
   "metadata": {},
   "outputs": [],
   "source": [
    "h2o_vap_pressure = pd.read_csv('experimental_data/h2o_vapor_pressure.csv').to_numpy()\n",
    "expT = h2o_vap_pressure[:,0]\n",
    "expP = h2o_vap_pressure[:,1]\n",
    "expComposition = [1.0] #Feed composition\n",
    "\n",
    "#It is recommended to define an initial estimation of the bubble pressure, however this is not necessary.\n",
    "#The estimate helps the algorithm find the real answer, \n",
    "#so you dont need to use it unless you are getting strange results.\n",
    "P_ini = 0.5 #bars"
   ]
  },
  {
   "cell_type": "markdown",
   "metadata": {},
   "source": [
    "Why are we loading vapor pressure data? Remember that for pure components, the bubble pressure is equal to the vapor pressure for the pure component, and thus we can use vapor pressure date for the bubble pressure. The comparison is run using relative deviation as the type of deviation."
   ]
  },
  {
   "cell_type": "code",
   "execution_count": 5,
   "metadata": {},
   "outputs": [
    {
     "name": "stdout",
     "output_type": "stream",
     "text": [
      "[ 2.27453764  1.71603793  1.22052497  0.79594311  0.42436249  0.10194402\n",
      "  0.17327442  0.40669417  0.60301425  0.76144507  0.89933125  1.00079047\n",
      "  1.07925261  1.13895289  1.17548774  1.19372944  1.63941792  2.77654191\n",
      "  6.32489483 85.86736742]\n"
     ]
    }
   ],
   "source": [
    "Case.Setup_Thermo()\n",
    "CompObject = xt.ComparisonFuncs(Case,'ARD')\n",
    "\n",
    "deviation = CompObject.PBubble_comparison(expT,expP,expComposition,P_ini) #This is the comparison function, \n",
    "#which returns a list of deviations between the model and experimental data\n",
    "\n",
    "#Here we model the vapor pressure of water over the temperature range 0-100 degrees celsius.\n",
    "T_model = np.linspace(273.15,373.15,100)\n",
    "P_model = []\n",
    "for T in T_model:\n",
    "    P, LnK, ierr = Case.PBubble(T,[1.0])\n",
    "    P_model.append(P)\n",
    "    \n",
    "Case.Finishup_Thermo()\n",
    "\n",
    "print(deviation) #Deviation in percentage"
   ]
  },
  {
   "cell_type": "markdown",
   "metadata": {},
   "source": [
    "Since it is absolute relative deviation, the unit of the returned deviations are in percentage"
   ]
  },
  {
   "cell_type": "code",
   "execution_count": 6,
   "metadata": {},
   "outputs": [
    {
     "data": {
      "image/png": "[encoded data removed]",
      "text/plain": [
       "<Figure size 432x288 with 1 Axes>"
      ]
     },
     "metadata": {
      "needs_background": "light"
     },
     "output_type": "display_data"
    },
    {
     "data": {
      "image/png": "[encoded data removed]",
      "text/plain": [
       "<Figure size 432x288 with 1 Axes>"
      ]
     },
     "metadata": {
      "needs_background": "light"
     },
     "output_type": "display_data"
    }
   ],
   "source": [
    "#Plot 1 - Bubble pressure (vapor pressure) vs temperature\n",
    "plt.plot(T_model,P_model,color=\"black\")\n",
    "plt.plot(expT,expP,'o',color=\"blue\",markersize=  8)\n",
    "plt.xlabel(\"Temperature [K]\")\n",
    "plt.ylabel(\"Pressure [bar]\")\n",
    "plt.grid()\n",
    "plt.legend([\"Model\",\"Experimental data\"])\n",
    "plt.show()\n",
    "\n",
    "#Plot 2 - Absolute relative deviation vs temperature\n",
    "plt.plot(expT,deviation,marker='o',color='black',linestyle='',markersize=8)\n",
    "plt.grid()\n",
    "plt.xlabel(\"Temperature [K]\")\n",
    "plt.ylabel(\"ARD [%]\")\n",
    "plt.show()"
   ]
  },
  {
   "cell_type": "markdown",
   "metadata": {},
   "source": [
    "### 4.2 TBubble "
   ]
  },
  {
   "cell_type": "markdown",
   "metadata": {},
   "source": [
    "In this example we calculate the bubble temperature for a pure component, using CPA. First, we set up CPA for water using the thermodynamic properties showcased in section 3."
   ]
  },
  {
   "cell_type": "code",
   "execution_count": 7,
   "metadata": {},
   "outputs": [],
   "source": [
    "Case = xt.xThermoInterface() #Loading the interface\n",
    "Case.ChooseAModel(1) #1 - CPA\n",
    "nc = 1 #Number of components\n",
    "Case.NoPureComp(nc) #Setting the number of components\n",
    "Case.CritProps(1, 647.29, 220.64000, 0.3449) #Setting the critical properties of water\n",
    "Case.CPAParams(1, 14.515, 1017.3, 0.6736) #Setting the physical CPA parameters of water\n",
    "Case.AssocParams(1, 22, 69.2, 2003.2) #Setting the association parameters of water"
   ]
  },
  {
   "cell_type": "markdown",
   "metadata": {},
   "source": [
    "Now we load experimental data as a list of values. The comparison function requires a composition (in thise case it is 1, since it is a pure component system). Furthermore, the function needs a temperature list and pressure list."
   ]
  },
  {
   "cell_type": "code",
   "execution_count": 8,
   "metadata": {},
   "outputs": [],
   "source": [
    "expT = [373,406,425] #Temperature (K)\n",
    "expP = [1.0135,3,5] #Pressure (bar)\n",
    "expComposition = [1.0] #Feed composition"
   ]
  },
  {
   "cell_type": "markdown",
   "metadata": {},
   "source": [
    "The comparison is run using absolute relative deviation as the type of deviation."
   ]
  },
  {
   "cell_type": "code",
   "execution_count": 9,
   "metadata": {},
   "outputs": [
    {
     "name": "stdout",
     "output_type": "stream",
     "text": [
      "[0.12717115 0.22916237 0.03178458]\n"
     ]
    }
   ],
   "source": [
    "Case.Setup_Thermo()\n",
    "\n",
    "CompObject = xt.ComparisonFuncs(Case, 'ARD')\n",
    "\n",
    "deviation = CompObject.TBubble_comparison(expT,expP,expComposition)\n",
    "\n",
    "Case.Finishup_Thermo()\n",
    "\n",
    "print(deviation) #Deviation in percentage"
   ]
  },
  {
   "cell_type": "markdown",
   "metadata": {},
   "source": [
    "Since the deviation type is absolute relative deviation, the result is given in percentage [%]"
   ]
  },
  {
   "cell_type": "markdown",
   "metadata": {},
   "source": [
    "### 4.3 PDew "
   ]
  },
  {
   "cell_type": "code",
   "execution_count": 10,
   "metadata": {},
   "outputs": [],
   "source": [
    "Case = xt.xThermoInterface()\n",
    "Case.ChooseAModel(1)\n",
    "nc = 1\n",
    "Case.NoPureComp(nc)\n",
    "Case.CritProps(1, 647.29, 220.64000, 0.3449)\n",
    "Case.CPAParams(1, 14.515, 1017.3, 0.6736)\n",
    "Case.AssocParams(1, 22, 69.2, 2003.2)"
   ]
  },
  {
   "cell_type": "markdown",
   "metadata": {},
   "source": [
    "Now we load experimental data as a list of values. The comparison function requires a composition (in thise case it is 1, since it is a pure component system). Furthermore, the function needs a temperature list and pressure list."
   ]
  },
  {
   "cell_type": "code",
   "execution_count": 11,
   "metadata": {},
   "outputs": [],
   "source": [
    "expT = [373,406,425] #Temperature (K)\n",
    "expP = [1.0135,3,5] #Pressure (bar)\n",
    "expComposition = [1.0] #Feed composition"
   ]
  },
  {
   "cell_type": "markdown",
   "metadata": {},
   "source": [
    "The comparison is run using absolute deviation as the type of deviation."
   ]
  },
  {
   "cell_type": "code",
   "execution_count": 12,
   "metadata": {},
   "outputs": [
    {
     "name": "stdout",
     "output_type": "stream",
     "text": [
      "[0.01699832 0.08112586 0.01797717]\n"
     ]
    }
   ],
   "source": [
    "Case.Setup_Thermo()\n",
    "\n",
    "CompObject = xt.ComparisonFuncs(Case,'AD')\n",
    "\n",
    "deviation = CompObject.PDew_comparison(expT,expP,expComposition)\n",
    "\n",
    "Case.Finishup_Thermo()\n",
    "\n",
    "print(deviation)"
   ]
  },
  {
   "cell_type": "markdown",
   "metadata": {},
   "source": [
    "Since it is absolute deviation, the unit of the returned deviations are in bars."
   ]
  },
  {
   "cell_type": "markdown",
   "metadata": {},
   "source": [
    "### 4.4 TDew "
   ]
  },
  {
   "cell_type": "markdown",
   "metadata": {},
   "source": [
    "In this section the dew tew temperature of water is the thermodynamic property of interest. Experimental data is compared with model predictions. Firstly, set up the model. In this scenario CPA is used, and the compound being modelled is pure water."
   ]
  },
  {
   "cell_type": "code",
   "execution_count": 13,
   "metadata": {},
   "outputs": [],
   "source": [
    "Case = xt.xThermoInterface()\n",
    "Case.ChooseAModel(1) # CPA = 1\n",
    "nc = 1\n",
    "Case.NoPureComp(nc)\n",
    "Case.CritProps(1, 647.29, 220.64000, 0.3449)\n",
    "Case.CPAParams(1, 14.515, 1017.3, 0.6736)\n",
    "Case.AssocParams(1, 22, 69.2, 2003.2)"
   ]
  },
  {
   "cell_type": "markdown",
   "metadata": {},
   "source": [
    "Now we load experimental data as a list of values. The comparison function requires a composition (in thise case it is 1, since it is a pure component system). Furthermore, the function needs a temperature list and pressure list."
   ]
  },
  {
   "cell_type": "code",
   "execution_count": 14,
   "metadata": {},
   "outputs": [],
   "source": [
    "h2o_vap_pressure = pd.read_csv('experimental_data/h2o_vapor_pressure.csv').to_numpy()\n",
    "expT = h2o_vap_pressure[:,0].tolist()\n",
    "expP = h2o_vap_pressure[:,1].tolist()\n",
    "expComposition = [1.0] #Feed composition\n",
    "\n",
    "#For this calculation, it is important to come up with a good initial estimate for the dew temperature.\n",
    "T_ini = 300 #Kelvin"
   ]
  },
  {
   "cell_type": "markdown",
   "metadata": {},
   "source": [
    "The comparison is run using absolute relative deviation as the type of deviation."
   ]
  },
  {
   "cell_type": "code",
   "execution_count": 15,
   "metadata": {},
   "outputs": [
    {
     "name": "stdout",
     "output_type": "stream",
     "text": [
      "[-0.11819249 -0.09133328 -0.06649679 -0.04436235 -0.02418341 -0.00593702\n",
      "  0.01030745  0.02469964  0.03737353  0.04813878  0.05797563  0.06575795\n",
      "  0.07225223  0.07766258  0.08161052  0.08435538  0.08601151  0.08654904\n",
      "  0.08609999  0.08458549]\n"
     ]
    }
   ],
   "source": [
    "Case.Setup_Thermo()\n",
    "\n",
    "CompObject = xt.ComparisonFuncs(Case,'RD')\n",
    "\n",
    "deviation = CompObject.TDew_comparison(expT,expP,expComposition,T_ini)\n",
    "\n",
    "#Here we model the vapor pressure of water over the temperature range 0-100 degrees celsius.\n",
    "P_model = np.linspace(0.01,1.0135,100)\n",
    "T_model = []\n",
    "for P in P_model:\n",
    "    T, LnK, ierr = Case.TDew(P,[1.0])\n",
    "    T_model.append(T)\n",
    "\n",
    "Case.Finishup_Thermo()\n",
    "\n",
    "print(deviation)"
   ]
  },
  {
   "cell_type": "markdown",
   "metadata": {},
   "source": [
    "Since the deviation type is absolute relative deviation, the result is given in percentage [%]"
   ]
  },
  {
   "cell_type": "code",
   "execution_count": 16,
   "metadata": {
    "scrolled": false
   },
   "outputs": [
    {
     "data": {
      "image/png": "[encoded data removed]",
      "text/plain": [
       "<Figure size 432x288 with 1 Axes>"
      ]
     },
     "metadata": {
      "needs_background": "light"
     },
     "output_type": "display_data"
    },
    {
     "data": {
      "image/png": "[encoded data removed]",
      "text/plain": [
       "<Figure size 432x288 with 1 Axes>"
      ]
     },
     "metadata": {
      "needs_background": "light"
     },
     "output_type": "display_data"
    }
   ],
   "source": [
    "#Plot 1 - Dew pressure vs temperature\n",
    "plt.plot(P_model,T_model,color=\"black\")\n",
    "plt.plot(expP,expT,'o',color=\"blue\",markersize=  8)\n",
    "plt.xlabel(\"Pressure [bar]\")\n",
    "plt.ylabel(\"Temperature [K]\")\n",
    "plt.grid()\n",
    "plt.legend([\"Model\",\"Experimental data\"])\n",
    "plt.show()\n",
    "\n",
    "#Plot 2 - Relative deviation vs temperature\n",
    "plt.plot(expP,deviation,marker='o',color='black',linestyle='',markersize=8)\n",
    "plt.plot([expP[0],expP[np.size(expP)-1]],[0,0],linestyle='--',color='black')\n",
    "plt.grid()\n",
    "plt.xlabel(\"Pressure [bar]\")\n",
    "plt.ylabel(\"RD [%]\")\n",
    "plt.legend([\"Deviations\",\"Zero-line\"])\n",
    "plt.show()"
   ]
  },
  {
   "cell_type": "markdown",
   "metadata": {},
   "source": [
    "### 4.5 LiqRho "
   ]
  },
  {
   "cell_type": "markdown",
   "metadata": {},
   "source": [
    "In this section an example is given on the use of the liquid density comparison function, and how to interpret the results from it."
   ]
  },
  {
   "cell_type": "code",
   "execution_count": 17,
   "metadata": {},
   "outputs": [],
   "source": [
    "Case = xt.xThermoInterface()\n",
    "Case.ChooseAModel(1)\n",
    "nc = 1\n",
    "Case.NoPureComp(nc)\n",
    "Case.CritProps(1, 647.29, 220.64000, 0.3449)\n",
    "Case.CPAParams(1, 14.515, 1017.3, 0.6736)\n",
    "Case.AssocParams(1, 22, 69.2, 2003.2)"
   ]
  },
  {
   "cell_type": "markdown",
   "metadata": {},
   "source": [
    "It is time to read some experimental data, to perform the comparison. For this example a csv file with liquid density data for water is available, and is loaded with the following code:"
   ]
  },
  {
   "cell_type": "code",
   "execution_count": 18,
   "metadata": {},
   "outputs": [],
   "source": [
    "#Reading the pdf file requires the Pandas package. If you get an error running this block of code, scroll to\n",
    "#the top and make sure you run the block of code importing packages.\n",
    "h2o_vap_density = pd.read_csv('experimental_data/h2o_liq_density.csv').to_numpy() #Reading pdf file\n",
    "expT = h2o_vap_density[:,0] #Extracting temperature column\n",
    "expRho = h2o_vap_density[:,1] #Extracting density column\n",
    "\n",
    "#We also need to set the composition, since the liquid density function allows for mixtures. In this scenario\n",
    "#only water is present, so we are dealing with a pure component. \n",
    "#The composition is defined below for a pure component\n",
    "expComposition = [1.0]"
   ]
  },
  {
   "cell_type": "markdown",
   "metadata": {},
   "source": [
    "The comparison is run using relative deviation as the type of deviation. Furthermore, for the purposes of plotting and interpreting the results, we are also running model calculations over an entire temperature range. "
   ]
  },
  {
   "cell_type": "code",
   "execution_count": 19,
   "metadata": {},
   "outputs": [
    {
     "name": "stdout",
     "output_type": "stream",
     "text": [
      "[ 2.19694467e+00  2.12214734e+00  2.04917798e+00  1.97803073e+00\n",
      "  1.91056974e+00  1.84304890e+00  1.77546657e+00  1.71155359e+00\n",
      "  1.64943657e+00  1.58911098e+00  1.04263250e+00  5.97459630e-01\n",
      "  2.29121566e-01 -7.70660148e-02 -3.31812016e-01 -5.43834818e-01\n",
      " -7.16188490e-01 -8.55628421e-01 -9.67072605e-01 -1.05360196e+00\n",
      " -1.11643645e+00 -1.15683124e+00 -1.18002098e+00 -1.18752468e+00\n",
      " -1.17699607e+00 -1.15417798e+00 -1.11496431e+00 -1.06143099e+00\n",
      " -9.93853811e-01 -9.10629713e-01 -8.10352224e-01 -6.91880345e-01\n",
      " -5.49928663e-01 -3.83934490e-01 -1.86910948e-01  5.03336604e-02\n",
      "  3.39342312e-01  6.96713685e-01  1.14468916e+00  1.72553328e+00\n",
      "  2.50265311e+00  3.57809453e+00 -1.00712139e+02 -1.03108096e+02\n",
      " -1.03460575e+02]\n"
     ]
    }
   ],
   "source": [
    "Case.Setup_Thermo()\n",
    "\n",
    "CompObject = xt.ComparisonFuncs(Case,'RD')\n",
    "\n",
    "deviation = CompObject.LiqRho_comparison(expT,expRho,expComposition)\n",
    "\n",
    "T_model = np.linspace(273.15,650,100)\n",
    "rho_model = []\n",
    "for T in T_model:\n",
    "    rho = Case.LiqRho(T,[1.0])\n",
    "    rho_model.append(rho)\n",
    "\n",
    "Case.Finishup_Thermo()\n",
    "\n",
    "\n",
    "print(deviation)"
   ]
  },
  {
   "cell_type": "markdown",
   "metadata": {},
   "source": [
    "<b>Interpreting results</b><br>\n",
    "The function returns a list of model errors in (mol/L) as the unit. The length of the returned list is equal to the amount of datapoints."
   ]
  },
  {
   "cell_type": "code",
   "execution_count": 20,
   "metadata": {},
   "outputs": [
    {
     "data": {
      "image/png": "[encoded data removed]",
      "text/plain": [
       "<Figure size 432x288 with 1 Axes>"
      ]
     },
     "metadata": {
      "needs_background": "light"
     },
     "output_type": "display_data"
    },
    {
     "data": {
      "image/png": "[encoded data removed]",
      "text/plain": [
       "<Figure size 432x288 with 1 Axes>"
      ]
     },
     "metadata": {
      "needs_background": "light"
     },
     "output_type": "display_data"
    }
   ],
   "source": [
    "#Plot 1 - Liquid density vs temperature\n",
    "plt.plot(T_model,rho_model,color=\"black\")\n",
    "plt.plot(expT,expRho,'o',color=\"blue\",markersize=  6)\n",
    "plt.xlabel(\"Temperature [K]\")\n",
    "plt.ylabel(\"Liquid density [mol/L]\")\n",
    "plt.legend([\"Model\",\"Experimental data\"])\n",
    "plt.grid()\n",
    "plt.show()\n",
    "\n",
    "#Plot 2 - Relative deviation vs temperature\n",
    "plt.plot(expT,deviation,marker='o',color='black',linestyle='',markersize=6)\n",
    "plt.plot([expT[0],expT[np.size(expT)-1]],[0,0],linestyle='--',color='black')\n",
    "plt.grid()\n",
    "plt.xlabel(\"Temperature [K]\")\n",
    "plt.ylabel(\"RD [%]\")\n",
    "plt.legend([\"Deviations\",\"Zero-line\"])\n",
    "plt.show()"
   ]
  },
  {
   "cell_type": "markdown",
   "metadata": {},
   "source": [
    "An interesting observation from these calculations, is that the model fails to compute liquid density at high temperatures."
   ]
  },
  {
   "cell_type": "markdown",
   "metadata": {},
   "source": [
    "### 4.6 PTFlash"
   ]
  },
  {
   "cell_type": "markdown",
   "metadata": {},
   "source": [
    "The PTFlash function is used for flash calculations. Often the function is used for modelling binary mixtures in VLE equilibrium. Therefore a function called <i>BinaryVLE_comparison</i> has been developed It directly compares prodel predictions of binary VLE systems with experimental data.<br><br>\n",
    "<b>Example with MEG-Methane</b><br>\n",
    "The phase compositition in each phase will be calculated and compared with simulated experimental data. First a binary mixture containing MEG and methane is set up, and CPA is picked as a model"
   ]
  },
  {
   "cell_type": "code",
   "execution_count": 21,
   "metadata": {},
   "outputs": [],
   "source": [
    "Case = xt.xThermoInterface() #Loading the interface\n",
    "Case.ChooseAModel(1) # 1 - CPA model\n",
    "Case.NoPureComp(2) #Number of pure components\n",
    "Case.CritProps(1, 719.6, 82.0, 0.5211) #MEG 4C\n",
    "Case.CritProps(2, 190.6, 45.9, 0.01155) #Methane\n",
    "Case.CPAParams(1, 51.4, 2531.7, 0.6744) #MEG 4C\n",
    "Case.CPAParams(2, 29.10, 959.03, 0.4472) #Methane\n",
    "Case.AssocParams(1, 22, 14.1, 2375.8) #MEG 4C\n",
    "Case.NoSpecKij(1) #Number of specified kij's (in this case 1)\n",
    "Case.SpecKij(1,1,2,0.1787,0,0) #Kij"
   ]
  },
  {
   "cell_type": "markdown",
   "metadata": {},
   "source": [
    "<b>Loading the data</b><br>\n",
    "The next step of the process is to load experimentl data. The experimental data must be defined as a list (even if only <i>one</i> datapoint is known!  A list of temperatures, pressures, vapor compositions, liquid compositions and optionally a feed composition. "
   ]
  },
  {
   "cell_type": "code",
   "execution_count": 22,
   "metadata": {},
   "outputs": [],
   "source": [
    "#Not actual data, but close\n",
    "#Two datapoints\n",
    "#For example, the temperature at datapoint 1 is 323K and temperature at datapoint 2 is 333K.\n",
    "#Thus, the temperature array is [323,333]\n",
    "expT = np.array([323.15,323.15,323.15,323.15,323.15,323.15,323.15,323.15,323.15,323.15,323.15]) #Temperatures [K]\n",
    "expP = np.array([23.7,23.9,59.8,103,159,198,200,253,292,341,395]) #Pressures [bar]\n",
    "expZ = np.array([[0.5,0.5],[0.5,0.5]]) #Feed compositions (if known). expZ = [molefrac_of_comp_1, molefrac_of_comp_2]\n",
    "expX = 1 - np.array([0.003,0.003,0.0066,0.011,0.0148,0.0174,0.0179,0.0207,0.0224,0.0249,0.0268]) #Mole fraction of comp 1 in liquid phsae \n",
    "#expY = np.array([2.7182e-05, 5.0082e-05]) #Mole fraction of comp 1 in vapor phase\n",
    "expY = np.zeros(np.size(expT))\n",
    "expY = expY + 0.5"
   ]
  },
  {
   "cell_type": "markdown",
   "metadata": {},
   "source": [
    "<b>Running the calculations</b><br>\n",
    "The comparison function is now called, and returns two lists: a list containing the liquid phase deviations and  list containing vapor phase deviations."
   ]
  },
  {
   "cell_type": "code",
   "execution_count": 23,
   "metadata": {
    "scrolled": true
   },
   "outputs": [
    {
     "name": "stdout",
     "output_type": "stream",
     "text": [
      "Printing Deviations liquid phase deviations [%]\n",
      "[-0.41807297  0.37427192  4.8253352  -1.95003164 -0.32629461 -2.27001592\n",
      " -4.40358437 -4.87494006 -4.72945224 -6.85616286 -6.65948149]\n"
     ]
    }
   ],
   "source": [
    "Case.Setup_Thermo()\n",
    "\n",
    "CompObject = xt.ComparisonFuncs(Case,'RD')\n",
    "\n",
    "(np_vl1, vl1Pxy, np_ll, llPxy, np_vl2, vl2Pxy, critpoint, nscrit, ierr) = Case.PXYdiagram(T=323, npoint_max=100, step_max=0.5)\n",
    "(deviation_x, deviation_y) = CompObject.BinaryVLE_Comparison(expT, expP, expX, expY, 1)\n",
    "\n",
    "Case.Finishup_Thermo()\n",
    "\n",
    "print('Printing Deviations liquid phase deviations [%]')\n",
    "print(deviation_x)\n"
   ]
  },
  {
   "cell_type": "markdown",
   "metadata": {},
   "source": [
    "<b>Interpreting results</b><br>\n",
    "The comparison function returns two lists, containing the model errors for the liquid phase and vapor phase respectively. In this case we were only interested in the liquid phase, so we will solely deal with the liquid phase."
   ]
  },
  {
   "cell_type": "code",
   "execution_count": 24,
   "metadata": {},
   "outputs": [
    {
     "data": {
      "image/png": "[encoded data removed]",
      "text/plain": [
       "<Figure size 432x288 with 1 Axes>"
      ]
     },
     "metadata": {
      "needs_background": "light"
     },
     "output_type": "display_data"
    },
    {
     "data": {
      "image/png": "[encoded data removed]",
      "text/plain": [
       "<Figure size 432x288 with 1 Axes>"
      ]
     },
     "metadata": {
      "needs_background": "light"
     },
     "output_type": "display_data"
    }
   ],
   "source": [
    "#We are extracting the liquid phase molar fractions and the corresponding pressures.\n",
    "x = vl1Pxy[0]\n",
    "P = vl1Pxy[2]\n",
    "#The current molar fractions are expressed in terms of MEG, but we would rather  express it in terms \n",
    "#of Methane, so we make the following conversion\n",
    "x = 1 - x\n",
    "expX_methane = 1 - expX\n",
    "\n",
    "#Plot 1 - Composition vs pressure (comparing model with data)\n",
    "plt.plot(P,x,color=\"black\")\n",
    "plt.plot(expP,expX_methane,'o',color=\"blue\",markersize=  8)\n",
    "plt.xlabel(\"Pressure [bar]\")\n",
    "plt.ylabel(\"x (Methane)\")\n",
    "plt.legend([\"Model\",\"Experimental data\"])\n",
    "plt.grid()\n",
    "plt.show()\n",
    "\n",
    "#Plot 2 - Relative deviation vs pressure\n",
    "plt.plot(expP,deviation_x,marker='o',color='black',linestyle='',markersize=8)\n",
    "plt.plot([expP[0],expP[np.size(expP)-1]],[0,0],linestyle='--',color='black')\n",
    "plt.grid()\n",
    "plt.xlabel(\"Pressure [bar]\")\n",
    "plt.ylabel(\"RD [%]\")\n",
    "plt.legend([\"Deviations\",\"Zero-line\"])\n",
    "plt.show()\n"
   ]
  },
  {
   "cell_type": "markdown",
   "metadata": {},
   "source": [
    "An interesting observation here, is that the model overpredicts the data at low pressures and proceeds to underpredict the data at high pressures."
   ]
  },
  {
   "cell_type": "markdown",
   "metadata": {},
   "source": [
    "## 5 Cases\n",
    "### 5.1 Case 1 - Evaluating EoS performance\n",
    "<b>Case task</b><br>\n",
    "A company has reached out to you, asking for help picking an equation of state to model their system. The company is planning on using SRK to model the liquid density of water in the temperature range [350K to 550K], but were recently made aware that SRK does not take hydrogen bonding into account. The company has heard about an equation of state known as CPA, which supposedly takes hydrogen bonding into consideration. Applying the CPA EoS will require more work for the company, but they are willing to apply CPA if you deem it necessary. Which EoS performs the best, and which EoS do you recommend the company applies?\n",
    "\n",
    "<b>Case work</b><br>\n",
    "In order to determine which EoS performs the best, the model must be compared to experimental data. Luckily, we have a csv file containing liquid density data points lying around. The data is now loaded."
   ]
  },
  {
   "cell_type": "code",
   "execution_count": 25,
   "metadata": {},
   "outputs": [],
   "source": [
    "temporary_data = pd.read_csv('experimental_data/h2o_liq_density.csv').values.tolist() #Reading pdf file\n",
    "\n",
    "h2o_vap_density = []\n",
    "for element in temporary_data:\n",
    "    if element[0] <= 550 and element[0] >= 350:\n",
    "        h2o_vap_density.append(element)\n",
    "h2o_vap_density = np.array(h2o_vap_density)\n",
    "\n",
    "\n",
    "expT = h2o_vap_density[:,0].tolist() #Extracting temperature column\n",
    "expRho = h2o_vap_density[:,1].tolist() #Extracting density column\n"
   ]
  },
  {
   "cell_type": "markdown",
   "metadata": {},
   "source": [
    "Since we are modelling water as a pure component, we set the experimental composition to 1."
   ]
  },
  {
   "cell_type": "code",
   "execution_count": 26,
   "metadata": {},
   "outputs": [],
   "source": [
    "expComposition = [1.0]"
   ]
  },
  {
   "cell_type": "markdown",
   "metadata": {},
   "source": [
    "We are now ready to perform modelling and model evaluations. First the CPA model is applied, which is done in the code block below. Notice that the temperature range of the modelling is 350-550K, since that is the range of interest for the customer."
   ]
  },
  {
   "cell_type": "code",
   "execution_count": 27,
   "metadata": {},
   "outputs": [],
   "source": [
    "Case = xt.xThermoInterface()\n",
    "Case.ChooseAModel(1) # CPA = 1\n",
    "nc = 1\n",
    "Case.NoPureComp(nc)\n",
    "Case.CritProps(1, 647.29, 220.64000, 0.3449)\n",
    "Case.CPAParams(1, 14.515, 1017.3, 0.6736)\n",
    "Case.AssocParams(1, 22, 69.2, 2003.2)\n",
    "\n",
    "Case.Setup_Thermo()\n",
    "\n",
    "CompObject = xt.ComparisonFuncs(Case, 'ARD')\n",
    "\n",
    "CPA_deviation = CompObject.LiqRho_comparison(expT,expRho,expComposition)\n",
    "\n",
    "CPA_T_model = np.linspace(350,550,100)\n",
    "CPA_rho_model = []\n",
    "for T in CPA_T_model:\n",
    "    rho = Case.LiqRho(T,[1.0])\n",
    "    CPA_rho_model.append(rho)\n",
    "    \n",
    "Case.Finishup_Thermo()"
   ]
  },
  {
   "cell_type": "markdown",
   "metadata": {},
   "source": [
    " Now we perform calculations for SRK, notice that we only need critical properties for SRK"
   ]
  },
  {
   "cell_type": "code",
   "execution_count": 28,
   "metadata": {},
   "outputs": [],
   "source": [
    "Case = xt.xThermoInterface()\n",
    "Case.ChooseAModel(2) # SRK = 2\n",
    "nc = 1\n",
    "Case.NoPureComp(nc)\n",
    "Case.CritProps(1, 647.29, 220.64000, 0.3449)\n",
    "\n",
    "Case.Setup_Thermo()\n",
    "\n",
    "CompObject = xt.ComparisonFuncs(Case, 'ARD')\n",
    "\n",
    "SRK_deviation = CompObject.LiqRho_comparison(expT,expRho,expComposition)\n",
    "\n",
    "SRK_T_model = np.linspace(350,550,100)\n",
    "SRK_rho_model = []\n",
    "for T in SRK_T_model:\n",
    "    rho = Case.LiqRho(T,[1.0])\n",
    "    SRK_rho_model.append(rho)\n",
    "    \n",
    "Case.Finishup_Thermo()"
   ]
  },
  {
   "cell_type": "markdown",
   "metadata": {},
   "source": [
    "<b>Results evalution</b><br>\n",
    "Now that all relevant calculations have been performed, it is time to show the results. The approach for the results section is similar to that of previous examples in this Jupyter Notebook. We will look at a graph where models are directly compared to experimental data. Furthermore, a graph with deviations between the models and all the datapoints will be shown."
   ]
  },
  {
   "cell_type": "code",
   "execution_count": 29,
   "metadata": {},
   "outputs": [
    {
     "data": {
      "image/png": "[encoded data removed]",
      "text/plain": [
       "<Figure size 432x288 with 1 Axes>"
      ]
     },
     "metadata": {
      "needs_background": "light"
     },
     "output_type": "display_data"
    },
    {
     "data": {
      "image/png": "[encoded data removed]",
      "text/plain": [
       "<Figure size 432x288 with 1 Axes>"
      ]
     },
     "metadata": {
      "needs_background": "light"
     },
     "output_type": "display_data"
    }
   ],
   "source": [
    "#Plot 1 - Liquid density vs temperature\n",
    "plt.plot(CPA_T_model,CPA_rho_model,color=\"black\")\n",
    "plt.plot(SRK_T_model,SRK_rho_model,color=\"red\")\n",
    "plt.plot(expT,expRho,'o',color=\"blue\",markersize=  6)\n",
    "plt.xlabel(\"Temperature [K]\")\n",
    "plt.ylabel(\"Liquid density [mol/L]\")\n",
    "plt.legend([\"CPA\",\"SRK\",\"Experimental data\"])\n",
    "plt.grid()\n",
    "plt.show()\n",
    "\n",
    "#Plot 2 - Absolute relative deviation vs temperature\n",
    "plt.plot(expT,CPA_deviation,marker='o',color='black',linestyle='',markersize=6)\n",
    "plt.plot(expT,SRK_deviation,marker='o',color='red',linestyle='',markersize=6)\n",
    "plt.grid()\n",
    "plt.xlabel(\"Temperature [K]\")\n",
    "plt.ylabel(\"ARD [%]\")\n",
    "plt.legend([\"CPA Deviations\",\"SRK Deviations\"])\n",
    "plt.show()"
   ]
  },
  {
   "cell_type": "markdown",
   "metadata": {},
   "source": [
    "<b>Conclusion</b><br>\n",
    "From the results it is seen that SRK EoS does a poor job at predicting the liquid density of water in the requested temperature range. This, of course, is not a surprise, since the SRK EoS does not take any hydrogen bonding into account which happens very prevalent in water. On the other hand, CPA was designed to take the best parts of SRK and then take association (hydrogen bonding) into consideration. And this is confirmed by the results, where CPA only exhibit absolute deviations at or below 2%. In conclusion, we recommend that the company applies CPA, despite the extra efforts required to apply CPA."
   ]
  }
 ],
 "metadata": {
  "kernelspec": {
   "display_name": "Python 3",
   "language": "python",
   "name": "python3"
  },
  "language_info": {
   "codemirror_mode": {
    "name": "ipython",
    "version": 3
   },
   "file_extension": ".py",
   "mimetype": "text/x-python",
   "name": "python",
   "nbconvert_exporter": "python",
   "pygments_lexer": "ipython3",
   "version": "3.8.3"
  }
 },
 "nbformat": 4,
 "nbformat_minor": 4
}
